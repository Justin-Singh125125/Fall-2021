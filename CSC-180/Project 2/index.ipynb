{
 "cells": [
  {
   "cell_type": "code",
   "execution_count": 94,
   "id": "6163c328",
   "metadata": {},
   "outputs": [],
   "source": [
    "from importlib.machinery import SourceFileLoader\n",
    "helpers = SourceFileLoader(\"helpers\", \"../helpers.py\").load_module()\n",
    "import pandas as pd\n",
    "from sklearn.model_selection import train_test_split\n",
    "from tensorflow.keras.models import Sequential\n",
    "from tensorflow.keras.layers import Dense, Activation, Dropout, Flatten\n",
    "from tensorflow.keras.callbacks import EarlyStopping\n",
    "import numpy as np\n",
    "from sklearn.metrics import confusion_matrix, classification_report\n",
    "from sklearn import metrics\n",
    "import matplotlib.pyplot as plt\n",
    "from tensorflow.keras.callbacks import ModelCheckpoint\n",
    "\n",
    "network_intrusion_data_frame = pd.read_csv('./dataset/network_intrusion_data.csv')\n",
    "\n",
    "\n",
    "def label_encoder(label):\n",
    "    if(label == 'normal.'):\n",
    "        return '0'\n",
    "    return '1'\n",
    "\n",
    "\n",
    "columns = [\n",
    "    'duration',   \n",
    "    'protocol_type',    \n",
    "    'service',    \n",
    "    'flag',    \n",
    "    'src_bytes',    \n",
    "    'dst_bytes',    \n",
    "    'land',    \n",
    "    'wrong_fragment',    \n",
    "    'urgent',    \n",
    "    'hot',    \n",
    "    'num_failed_logins',    \n",
    "    'logged_in',    \n",
    "    'num_compromised',    \n",
    "    'root_shell',    \n",
    "    'su_attempted',\n",
    "    'num_root',    \n",
    "    'num_file_creations',    \n",
    "    'num_shells',    \n",
    "    'num_access_files',    \n",
    "    'num_outbound_cmds',    \n",
    "    'is_host_login',   \n",
    "    'is_guest_login',   \n",
    "    'count',  \n",
    "    'srv_count',  \n",
    "    'serror_rate',   \n",
    "    'srv_serror_rate', \n",
    "    'rerror_rate',  \n",
    "    'srv_rerror_rate', \n",
    "    'same_srv_rate',   \n",
    "    'diff_srv_rate',    \n",
    "    'srv_diff_host_rate',  \n",
    "    'dst_host_count', \n",
    "    'dst_host_srv_count',  \n",
    "    'dst_host_same_srv_rate', \n",
    "    'dst_host_diff_srv_rate',    \n",
    "    'dst_host_same_src_port_rate',  \n",
    "    'dst_host_srv_diff_host_rate',  \n",
    "    'dst_host_serror_rate',  \n",
    "    'dst_host_srv_serror_rate',  \n",
    "    'dst_host_rerror_rate',   \n",
    "    'dst_host_srv_rerror_rate',    \n",
    "    'outcome'] \n",
    "\n",
    "\n",
    "network_intrusion_data_frame.columns = columns\n",
    "\n",
    "# drop rows with missing values since data is not complete\n",
    "network_intrusion_data_frame.dropna()\n",
    "\n",
    "# drop redudant rows so we do not get biased data in testing phase\n",
    "network_intrusion_data_frame.drop_duplicates(keep='first', inplace=True)\n",
    "\n",
    "# here i encoded all normal outcomes to 0 and attacks to 1\n",
    "network_intrusion_data_frame['outcome'] = network_intrusion_data_frame['outcome'].map(label_encoder)\n",
    "\n",
    "outcome = helpers.encode_text_index(network_intrusion_data_frame,'outcome')\n",
    "\n",
    "for x in columns:\n",
    "    if(x != 'outcome'):\n",
    "        helpers.encode_text_index(network_intrusion_data_frame, x)\n",
    "    \n"
   ]
  },
  {
   "cell_type": "markdown",
   "id": "6b637800",
   "metadata": {},
   "source": [
    "# Fully-Connected Neural Network Training \n",
    "\n"
   ]
  },
  {
   "cell_type": "code",
   "execution_count": 95,
   "id": "7985797a",
   "metadata": {},
   "outputs": [],
   "source": [
    "x,y = helpers.to_xy(network_intrusion_data_frame, 'outcome')\n",
    "\n",
    "x_train, x_test, y_train, y_test = train_test_split(x, y)\n",
    "\n",
    "checkpointer = ModelCheckpoint(filepath=\"best_weights.hdf5\", verbose=0, save_best_only=True) # save best model"
   ]
  },
  {
   "cell_type": "markdown",
   "id": "32752c50",
   "metadata": {},
   "source": [
    "#  relu and adam"
   ]
  },
  {
   "cell_type": "code",
   "execution_count": null,
   "id": "c9f1991f",
   "metadata": {},
   "outputs": [],
   "source": [
    "model = Sequential()\n",
    "model.add(Dense(20, input_dim=x.shape[1], activation='relu'))\n",
    "model.add(Dense(10, activation='relu'))\n",
    "model.add(Dense(y.shape[1], activation='softmax'))\n",
    "model.compile(loss='categorical_crossentropy', optimizer='adam')\n",
    "\n",
    "monitor = EarlyStopping(monitor='val_loss', min_delta=1e-3, patience=5, verbose=1, mode='auto')\n",
    "\n",
    "model.fit(x_train,y_train,validation_data=(x_test,y_test),callbacks=[monitor,checkpointer],verbose=0,epochs=100)\n",
    "\n",
    "pred = model.predict(x_test)\n",
    "pred = np.argmax(pred,axis=1)\n",
    "y_true = np.argmax(y_test,axis=1)\n",
    "\n",
    "\n",
    "score = metrics.accuracy_score(y_true, pred)\n",
    "print(\"Final accuracy: {}\".format(score))\n",
    "    \n",
    "\n",
    "cm = confusion_matrix(y_true, pred)\n",
    "\n",
    "plt.figure()\n",
    "helpers.plot_confusion_matrix(cm, outcome)\n",
    "plt.show()\n",
    "\n",
    "print(classification_report(y_true, pred))"
   ]
  },
  {
   "cell_type": "markdown",
   "id": "483289bd",
   "metadata": {},
   "source": [
    "# relu and sgd"
   ]
  },
  {
   "cell_type": "code",
   "execution_count": 90,
   "id": "7ee6be0a",
   "metadata": {},
   "outputs": [
    {
     "name": "stdout",
     "output_type": "stream",
     "text": [
      "Train on 109188 samples, validate on 36397 samples\n",
      "Epoch 1/5\n",
      "109188/109188 - 3s - loss: 0.2818 - val_loss: 0.1002\n",
      "Epoch 2/5\n",
      "109188/109188 - 3s - loss: 0.0948 - val_loss: 0.0960\n",
      "Epoch 3/5\n",
      "109188/109188 - 3s - loss: 0.0926 - val_loss: 0.0951\n",
      "Epoch 4/5\n",
      "109188/109188 - 3s - loss: 0.0920 - val_loss: 0.0947\n",
      "Epoch 5/5\n",
      "109188/109188 - 3s - loss: 0.0917 - val_loss: 0.0942\n",
      "Final accuracy: 0.9782674396241449\n"
     ]
    },
    {
     "data": {
      "image/png": "[encoded data removed]",
      "text/plain": [
       "<Figure size 432x288 with 2 Axes>"
      ]
     },
     "metadata": {
      "needs_background": "light"
     },
     "output_type": "display_data"
    },
    {
     "name": "stdout",
     "output_type": "stream",
     "text": [
      "              precision    recall  f1-score   support\n",
      "\n",
      "           0       0.97      1.00      0.98     21928\n",
      "           1       1.00      0.95      0.97     14469\n",
      "\n",
      "    accuracy                           0.98     36397\n",
      "   macro avg       0.98      0.97      0.98     36397\n",
      "weighted avg       0.98      0.98      0.98     36397\n",
      "\n"
     ]
    }
   ],
   "source": [
    "model = Sequential()\n",
    "model.add(Dense(20, input_dim=x.shape[1], activation='relu'))\n",
    "model.add(Dense(10, activation='relu'))\n",
    "model.add(Dense(y.shape[1], activation='softmax'))\n",
    "model.compile(loss='categorical_crossentropy', optimizer='sgd')\n",
    "\n",
    "monitor = EarlyStopping(monitor='val_loss', min_delta=1e-3, patience=5, verbose=1, mode='auto')\n",
    "\n",
    "model.fit(x_train,y_train,validation_data=(x_test,y_test),callbacks=[monitor,checkpointer],verbose=0,epochs=100)\n",
    "\n",
    "pred = model.predict(x_test)\n",
    "pred = np.argmax(pred,axis=1)\n",
    "y_true = np.argmax(y_test,axis=1)\n",
    "\n",
    "\n",
    "score = metrics.accuracy_score(y_true, pred)\n",
    "print(\"Final accuracy: {}\".format(score))\n",
    "    \n",
    "\n",
    "cm = confusion_matrix(y_true, pred)\n",
    "\n",
    "plt.figure()\n",
    "helpers.plot_confusion_matrix(cm, outcome)\n",
    "plt.show()\n",
    "\n",
    "print(classification_report(y_true, pred))"
   ]
  },
  {
   "cell_type": "markdown",
   "id": "8c9c708e",
   "metadata": {},
   "source": [
    "# sigmoid and adam"
   ]
  },
  {
   "cell_type": "code",
   "execution_count": 93,
   "id": "60bdc2fd",
   "metadata": {},
   "outputs": [
    {
     "name": "stdout",
     "output_type": "stream",
     "text": [
      "Train on 109188 samples, validate on 36397 samples\n",
      "Epoch 1/5\n",
      "109188/109188 - 4s - loss: 0.0847 - val_loss: 0.0319\n",
      "Epoch 2/5\n",
      "109188/109188 - 3s - loss: 0.0279 - val_loss: 0.0211\n",
      "Epoch 3/5\n",
      "109188/109188 - 3s - loss: 0.0233 - val_loss: 0.0205\n",
      "Epoch 4/5\n",
      "109188/109188 - 3s - loss: 0.0204 - val_loss: 0.0202\n",
      "Epoch 5/5\n",
      "109188/109188 - 4s - loss: 0.0205 - val_loss: 0.0241\n",
      "Final accuracy: 0.992884028903481\n"
     ]
    },
    {
     "data": {
      "image/png": "[encoded data removed]",
      "text/plain": [
       "<Figure size 432x288 with 2 Axes>"
      ]
     },
     "metadata": {
      "needs_background": "light"
     },
     "output_type": "display_data"
    },
    {
     "name": "stdout",
     "output_type": "stream",
     "text": [
      "              precision    recall  f1-score   support\n",
      "\n",
      "           0       1.00      0.99      0.99     21928\n",
      "           1       0.99      0.99      0.99     14469\n",
      "\n",
      "    accuracy                           0.99     36397\n",
      "   macro avg       0.99      0.99      0.99     36397\n",
      "weighted avg       0.99      0.99      0.99     36397\n",
      "\n"
     ]
    }
   ],
   "source": [
    "model = Sequential()\n",
    "model.add(Dense(20, input_dim=x.shape[1], activation='sigmoid'))\n",
    "model.add(Dense(10, activation='sigmoid'))\n",
    "model.add(Dense(y.shape[1], activation='softmax'))\n",
    "model.compile(loss='categorical_crossentropy', optimizer='adam')\n",
    "\n",
    "monitor = EarlyStopping(monitor='val_loss', min_delta=1e-3, patience=5, verbose=1, mode='auto')\n",
    "\n",
    "model.fit(x_train,y_train,validation_data=(x_test,y_test),callbacks=[monitor,checkpointer],verbose=0,epochs=100)\n",
    "\n",
    "pred = model.predict(x_test)\n",
    "pred = np.argmax(pred,axis=1)\n",
    "y_true = np.argmax(y_test,axis=1)\n",
    "\n",
    "\n",
    "score = metrics.accuracy_score(y_true, pred)\n",
    "print(\"Final accuracy: {}\".format(score))\n",
    "    \n",
    "\n",
    "cm = confusion_matrix(y_true, pred)\n",
    "\n",
    "plt.figure()\n",
    "helpers.plot_confusion_matrix(cm, outcome)\n",
    "plt.show()\n",
    "\n",
    "print(classification_report(y_true, pred))"
   ]
  },
  {
   "cell_type": "markdown",
   "id": "705a537f",
   "metadata": {},
   "source": [
    "# sigmoid and sgd"
   ]
  },
  {
   "cell_type": "code",
   "execution_count": null,
   "id": "acc8a9dd",
   "metadata": {},
   "outputs": [],
   "source": [
    "model = Sequential()\n",
    "model.add(Dense(20, input_dim=x.shape[1], activation='sigmoid'))\n",
    "model.add(Dense(10, activation='sigmoid'))\n",
    "model.add(Dense(y.shape[1], activation='softmax'))\n",
    "model.compile(loss='categorical_crossentropy', optimizer='sgd')\n",
    "\n",
    "monitor = EarlyStopping(monitor='val_loss', min_delta=1e-3, patience=5, verbose=1, mode='auto')\n",
    "\n",
    "model.fit(x_train,y_train,validation_data=(x_test,y_test),callbacks=[monitor,checkpointer],verbose=0,epochs=100)\n",
    "\n",
    "pred = model.predict(x_test)\n",
    "pred = np.argmax(pred,axis=1)\n",
    "y_true = np.argmax(y_test,axis=1)\n",
    "\n",
    "\n",
    "score = metrics.accuracy_score(y_true, pred)\n",
    "print(\"Final accuracy: {}\".format(score))\n",
    "    \n",
    "\n",
    "cm = confusion_matrix(y_true, pred)\n",
    "\n",
    "plt.figure()\n",
    "helpers.plot_confusion_matrix(cm, outcome)\n",
    "plt.show()\n",
    "\n",
    "print(classification_report(y_true, pred))"
   ]
  },
  {
   "cell_type": "markdown",
   "id": "f90adc64",
   "metadata": {},
   "source": [
    "# tanh and adam"
   ]
  },
  {
   "cell_type": "code",
   "execution_count": 86,
   "id": "48edebed",
   "metadata": {},
   "outputs": [
    {
     "name": "stdout",
     "output_type": "stream",
     "text": [
      "Train on 109188 samples, validate on 36397 samples\n",
      "Epoch 1/5\n",
      "109188/109188 - 3s - loss: 0.1047 - val_loss: 0.0873\n",
      "Epoch 2/5\n",
      "109188/109188 - 3s - loss: 0.0804 - val_loss: 0.0718\n",
      "Epoch 3/5\n",
      "109188/109188 - 3s - loss: 0.0739 - val_loss: 0.0703\n",
      "Epoch 4/5\n",
      "109188/109188 - 3s - loss: 0.0682 - val_loss: 0.0483\n",
      "Epoch 5/5\n",
      "109188/109188 - 3s - loss: 0.0692 - val_loss: 0.0847\n",
      "Final accuracy: 0.979009259004863\n"
     ]
    },
    {
     "data": {
      "image/png": "[encoded data removed]",
      "text/plain": [
       "<Figure size 432x288 with 2 Axes>"
      ]
     },
     "metadata": {
      "needs_background": "light"
     },
     "output_type": "display_data"
    },
    {
     "name": "stdout",
     "output_type": "stream",
     "text": [
      "              precision    recall  f1-score   support\n",
      "\n",
      "           0       0.97      1.00      0.98     21928\n",
      "           1       1.00      0.95      0.97     14469\n",
      "\n",
      "    accuracy                           0.98     36397\n",
      "   macro avg       0.98      0.97      0.98     36397\n",
      "weighted avg       0.98      0.98      0.98     36397\n",
      "\n"
     ]
    }
   ],
   "source": [
    "model = Sequential()\n",
    "model.add(Dense(20, input_dim=x.shape[1], activation='tanh'))\n",
    "model.add(Dense(10, activation='tanh'))\n",
    "model.add(Dense(y.shape[1], activation='softmax'))\n",
    "model.compile(loss='categorical_crossentropy', optimizer='adam')\n",
    "\n",
    "monitor = EarlyStopping(monitor='val_loss', min_delta=1e-3, patience=5, verbose=1, mode='auto')\n",
    "\n",
    "model.fit(x_train,y_train,validation_data=(x_test,y_test),callbacks=[monitor,checkpointer],verbose=0,epochs=100)\n",
    "\n",
    "pred = model.predict(x_test)\n",
    "pred = np.argmax(pred,axis=1)\n",
    "y_true = np.argmax(y_test,axis=1)\n",
    "\n",
    "\n",
    "score = metrics.accuracy_score(y_true, pred)\n",
    "print(\"Final accuracy: {}\".format(score))\n",
    "    \n",
    "\n",
    "cm = confusion_matrix(y_true, pred)\n",
    "\n",
    "plt.figure()\n",
    "helpers.plot_confusion_matrix(cm, outcome)\n",
    "plt.show()\n",
    "\n",
    "print(classification_report(y_true, pred))"
   ]
  },
  {
   "cell_type": "markdown",
   "id": "82a56588",
   "metadata": {},
   "source": [
    "# tanh and sgd"
   ]
  },
  {
   "cell_type": "code",
   "execution_count": 92,
   "id": "ed17aad8",
   "metadata": {},
   "outputs": [
    {
     "name": "stdout",
     "output_type": "stream",
     "text": [
      "Train on 109188 samples, validate on 36397 samples\n",
      "Epoch 1/5\n",
      "109188/109188 - 4s - loss: 0.1009 - val_loss: 0.0842\n",
      "Epoch 2/5\n",
      "109188/109188 - 3s - loss: 0.0782 - val_loss: 0.0693\n",
      "Epoch 3/5\n",
      "109188/109188 - 3s - loss: 0.0662 - val_loss: 0.0671\n",
      "Epoch 4/5\n",
      "109188/109188 - 3s - loss: 0.0703 - val_loss: 0.0762\n",
      "Epoch 5/5\n",
      "109188/109188 - 3s - loss: 0.0711 - val_loss: 0.0724\n",
      "Final accuracy: 0.9787345110860786\n"
     ]
    },
    {
     "data": {
      "image/png": "[encoded data removed]",
      "text/plain": [
       "<Figure size 432x288 with 2 Axes>"
      ]
     },
     "metadata": {
      "needs_background": "light"
     },
     "output_type": "display_data"
    },
    {
     "name": "stdout",
     "output_type": "stream",
     "text": [
      "              precision    recall  f1-score   support\n",
      "\n",
      "           0       0.97      1.00      0.98     21928\n",
      "           1       1.00      0.95      0.97     14469\n",
      "\n",
      "    accuracy                           0.98     36397\n",
      "   macro avg       0.98      0.97      0.98     36397\n",
      "weighted avg       0.98      0.98      0.98     36397\n",
      "\n"
     ]
    }
   ],
   "source": [
    "model = Sequential()\n",
    "model.add(Dense(20, input_dim=x.shape[1], activation='tanh'))\n",
    "model.add(Dense(10, activation='tanh'))\n",
    "model.add(Dense(y.shape[1], activation='softmax'))\n",
    "model.compile(loss='categorical_crossentropy', optimizer='sgd')\n",
    "\n",
    "monitor = EarlyStopping(monitor='val_loss', min_delta=1e-3, patience=5, verbose=1, mode='auto')\n",
    "\n",
    "model.fit(x_train,y_train,validation_data=(x_test,y_test),callbacks=[monitor,checkpointer],verbose=0,epochs=100)\n",
    "\n",
    "pred = model.predict(x_test)\n",
    "pred = np.argmax(pred,axis=1)\n",
    "y_true = np.argmax(y_test,axis=1)\n",
    "\n",
    "\n",
    "score = metrics.accuracy_score(y_true, pred)\n",
    "print(\"Final accuracy: {}\".format(score))\n",
    "    \n",
    "\n",
    "cm = confusion_matrix(y_true, pred)\n",
    "\n",
    "plt.figure()\n",
    "helpers.plot_confusion_matrix(cm, outcome)\n",
    "plt.show()\n",
    "\n",
    "print(classification_report(y_true, pred))"
   ]
  },
  {
   "cell_type": "markdown",
   "id": "56e9c414",
   "metadata": {},
   "source": [
    "# Convolutional Neural Networks (CNN)"
   ]
  },
  {
   "cell_type": "code",
   "execution_count": 42,
   "id": "03b06997",
   "metadata": {},
   "outputs": [],
   "source": [
    "# turning into numpy array simulates an image. \n",
    "x = network_intrusion_data_frame.to_numpy()\n",
    "y = network_intrusion_data_frame['outcome'].to_numpy()"
   ]
  },
  {
   "cell_type": "code",
   "execution_count": 43,
   "id": "13c67219",
   "metadata": {},
   "outputs": [],
   "source": [
    "import tensorflow as tf\n",
    "\n",
    "rowLength = len(x)\n",
    "columLength = len(x[0])\n",
    "\n",
    "x = x.reshape((rowLength, 1, columLength, 1))\n",
    "y_one_hot = tf.keras.utils.to_categorical(y, 2)"
   ]
  },
  {
   "cell_type": "code",
   "execution_count": 70,
   "id": "395886b3",
   "metadata": {},
   "outputs": [
    {
     "name": "stdout",
     "output_type": "stream",
     "text": [
      "1528674\n",
      "1528674\n"
     ]
    }
   ],
   "source": [
    "from tensorflow.keras.layers import Conv2D, MaxPooling2D\n",
    "\n",
    "x_train, x_test, y_train, y_test = train_test_split(x, y_one_hot)\n",
    "\n",
    "# convert to float32 for normalization\n",
    "x_train = x_train.astype('float32')\n",
    "x_test = x_test.astype('float32')\n",
    "\n",
    "# normalize the data values to the range [0, 1]\n",
    "x_train /= 255\n",
    "x_test /= 255\n",
    "\n",
    "# remove data that may have went missing from normalization\n",
    "x_train = x_train[~np.isnan(x_train)]\n",
    "x_test = x_test[~np.isnan(x_test)]"
   ]
  },
  {
   "cell_type": "code",
   "execution_count": 69,
   "id": "6f2b53e4",
   "metadata": {},
   "outputs": [
    {
     "name": "stdout",
     "output_type": "stream",
     "text": [
      "0\n"
     ]
    },
    {
     "ename": "ValueError",
     "evalue": "Error when checking input: expected conv2d_22_input to have 4 dimensions, but got array with shape (4585896, 1)",
     "output_type": "error",
     "traceback": [
      "\u001b[0;31m---------------------------------------------------------------------------\u001b[0m",
      "\u001b[0;31mValueError\u001b[0m                                Traceback (most recent call last)",
      "\u001b[0;32m<ipython-input-69-07dfb1003f70>\u001b[0m in \u001b[0;36m<module>\u001b[0;34m\u001b[0m\n\u001b[1;32m     22\u001b[0m     \u001b[0mmonitor\u001b[0m \u001b[0;34m=\u001b[0m \u001b[0mEarlyStopping\u001b[0m\u001b[0;34m(\u001b[0m\u001b[0mmonitor\u001b[0m\u001b[0;34m=\u001b[0m\u001b[0;34m'val_loss'\u001b[0m\u001b[0;34m,\u001b[0m \u001b[0mmin_delta\u001b[0m\u001b[0;34m=\u001b[0m\u001b[0;36m1e-3\u001b[0m\u001b[0;34m,\u001b[0m \u001b[0mpatience\u001b[0m\u001b[0;34m=\u001b[0m\u001b[0;36m5\u001b[0m\u001b[0;34m,\u001b[0m \u001b[0mverbose\u001b[0m\u001b[0;34m=\u001b[0m\u001b[0;36m1\u001b[0m\u001b[0;34m,\u001b[0m \u001b[0mmode\u001b[0m\u001b[0;34m=\u001b[0m\u001b[0;34m'auto'\u001b[0m\u001b[0;34m)\u001b[0m\u001b[0;34m\u001b[0m\u001b[0;34m\u001b[0m\u001b[0m\n\u001b[1;32m     23\u001b[0m \u001b[0;34m\u001b[0m\u001b[0m\n\u001b[0;32m---> 24\u001b[0;31m     \u001b[0mcnn\u001b[0m\u001b[0;34m.\u001b[0m\u001b[0mfit\u001b[0m\u001b[0;34m(\u001b[0m\u001b[0mx_train\u001b[0m\u001b[0;34m,\u001b[0m \u001b[0my_train\u001b[0m\u001b[0;34m,\u001b[0m \u001b[0mcallbacks\u001b[0m\u001b[0;34m=\u001b[0m\u001b[0;34m[\u001b[0m\u001b[0mmonitor\u001b[0m\u001b[0;34m,\u001b[0m\u001b[0mcheckpointer\u001b[0m\u001b[0;34m]\u001b[0m\u001b[0;34m,\u001b[0m \u001b[0mepochs\u001b[0m\u001b[0;34m=\u001b[0m\u001b[0;36m10\u001b[0m\u001b[0;34m,\u001b[0m \u001b[0mverbose\u001b[0m\u001b[0;34m=\u001b[0m\u001b[0;36m2\u001b[0m\u001b[0;34m,\u001b[0m\u001b[0mvalidation_data\u001b[0m\u001b[0;34m=\u001b[0m\u001b[0;34m(\u001b[0m\u001b[0mx_test\u001b[0m\u001b[0;34m,\u001b[0m \u001b[0my_test\u001b[0m\u001b[0;34m)\u001b[0m\u001b[0;34m)\u001b[0m\u001b[0;34m\u001b[0m\u001b[0;34m\u001b[0m\u001b[0m\n\u001b[0m",
      "\u001b[0;32m~/opt/anaconda3/lib/python3.7/site-packages/tensorflow_core/python/keras/engine/training.py\u001b[0m in \u001b[0;36mfit\u001b[0;34m(self, x, y, batch_size, epochs, verbose, callbacks, validation_split, validation_data, shuffle, class_weight, sample_weight, initial_epoch, steps_per_epoch, validation_steps, validation_freq, max_queue_size, workers, use_multiprocessing, **kwargs)\u001b[0m\n\u001b[1;32m    726\u001b[0m         \u001b[0mmax_queue_size\u001b[0m\u001b[0;34m=\u001b[0m\u001b[0mmax_queue_size\u001b[0m\u001b[0;34m,\u001b[0m\u001b[0;34m\u001b[0m\u001b[0;34m\u001b[0m\u001b[0m\n\u001b[1;32m    727\u001b[0m         \u001b[0mworkers\u001b[0m\u001b[0;34m=\u001b[0m\u001b[0mworkers\u001b[0m\u001b[0;34m,\u001b[0m\u001b[0;34m\u001b[0m\u001b[0;34m\u001b[0m\u001b[0m\n\u001b[0;32m--> 728\u001b[0;31m         use_multiprocessing=use_multiprocessing)\n\u001b[0m\u001b[1;32m    729\u001b[0m \u001b[0;34m\u001b[0m\u001b[0m\n\u001b[1;32m    730\u001b[0m   def evaluate(self,\n",
      "\u001b[0;32m~/opt/anaconda3/lib/python3.7/site-packages/tensorflow_core/python/keras/engine/training_v2.py\u001b[0m in \u001b[0;36mfit\u001b[0;34m(self, model, x, y, batch_size, epochs, verbose, callbacks, validation_split, validation_data, shuffle, class_weight, sample_weight, initial_epoch, steps_per_epoch, validation_steps, validation_freq, **kwargs)\u001b[0m\n\u001b[1;32m    222\u001b[0m           \u001b[0mvalidation_data\u001b[0m\u001b[0;34m=\u001b[0m\u001b[0mvalidation_data\u001b[0m\u001b[0;34m,\u001b[0m\u001b[0;34m\u001b[0m\u001b[0;34m\u001b[0m\u001b[0m\n\u001b[1;32m    223\u001b[0m           \u001b[0mvalidation_steps\u001b[0m\u001b[0;34m=\u001b[0m\u001b[0mvalidation_steps\u001b[0m\u001b[0;34m,\u001b[0m\u001b[0;34m\u001b[0m\u001b[0;34m\u001b[0m\u001b[0m\n\u001b[0;32m--> 224\u001b[0;31m           distribution_strategy=strategy)\n\u001b[0m\u001b[1;32m    225\u001b[0m \u001b[0;34m\u001b[0m\u001b[0m\n\u001b[1;32m    226\u001b[0m       \u001b[0mtotal_samples\u001b[0m \u001b[0;34m=\u001b[0m \u001b[0m_get_total_number_of_samples\u001b[0m\u001b[0;34m(\u001b[0m\u001b[0mtraining_data_adapter\u001b[0m\u001b[0;34m)\u001b[0m\u001b[0;34m\u001b[0m\u001b[0;34m\u001b[0m\u001b[0m\n",
      "\u001b[0;32m~/opt/anaconda3/lib/python3.7/site-packages/tensorflow_core/python/keras/engine/training_v2.py\u001b[0m in \u001b[0;36m_process_training_inputs\u001b[0;34m(model, x, y, batch_size, epochs, sample_weights, class_weights, steps_per_epoch, validation_split, validation_data, validation_steps, shuffle, distribution_strategy, max_queue_size, workers, use_multiprocessing)\u001b[0m\n\u001b[1;32m    545\u001b[0m         \u001b[0mmax_queue_size\u001b[0m\u001b[0;34m=\u001b[0m\u001b[0mmax_queue_size\u001b[0m\u001b[0;34m,\u001b[0m\u001b[0;34m\u001b[0m\u001b[0;34m\u001b[0m\u001b[0m\n\u001b[1;32m    546\u001b[0m         \u001b[0mworkers\u001b[0m\u001b[0;34m=\u001b[0m\u001b[0mworkers\u001b[0m\u001b[0;34m,\u001b[0m\u001b[0;34m\u001b[0m\u001b[0;34m\u001b[0m\u001b[0m\n\u001b[0;32m--> 547\u001b[0;31m         use_multiprocessing=use_multiprocessing)\n\u001b[0m\u001b[1;32m    548\u001b[0m     \u001b[0mval_adapter\u001b[0m \u001b[0;34m=\u001b[0m \u001b[0;32mNone\u001b[0m\u001b[0;34m\u001b[0m\u001b[0;34m\u001b[0m\u001b[0m\n\u001b[1;32m    549\u001b[0m     \u001b[0;32mif\u001b[0m \u001b[0mvalidation_data\u001b[0m\u001b[0;34m:\u001b[0m\u001b[0;34m\u001b[0m\u001b[0;34m\u001b[0m\u001b[0m\n",
      "\u001b[0;32m~/opt/anaconda3/lib/python3.7/site-packages/tensorflow_core/python/keras/engine/training_v2.py\u001b[0m in \u001b[0;36m_process_inputs\u001b[0;34m(model, x, y, batch_size, epochs, sample_weights, class_weights, shuffle, steps, distribution_strategy, max_queue_size, workers, use_multiprocessing)\u001b[0m\n\u001b[1;32m    592\u001b[0m         \u001b[0mbatch_size\u001b[0m\u001b[0;34m=\u001b[0m\u001b[0mbatch_size\u001b[0m\u001b[0;34m,\u001b[0m\u001b[0;34m\u001b[0m\u001b[0;34m\u001b[0m\u001b[0m\n\u001b[1;32m    593\u001b[0m         \u001b[0mcheck_steps\u001b[0m\u001b[0;34m=\u001b[0m\u001b[0;32mFalse\u001b[0m\u001b[0;34m,\u001b[0m\u001b[0;34m\u001b[0m\u001b[0;34m\u001b[0m\u001b[0m\n\u001b[0;32m--> 594\u001b[0;31m         steps=steps)\n\u001b[0m\u001b[1;32m    595\u001b[0m   adapter = adapter_cls(\n\u001b[1;32m    596\u001b[0m       \u001b[0mx\u001b[0m\u001b[0;34m,\u001b[0m\u001b[0;34m\u001b[0m\u001b[0;34m\u001b[0m\u001b[0m\n",
      "\u001b[0;32m~/opt/anaconda3/lib/python3.7/site-packages/tensorflow_core/python/keras/engine/training.py\u001b[0m in \u001b[0;36m_standardize_user_data\u001b[0;34m(self, x, y, sample_weight, class_weight, batch_size, check_steps, steps_name, steps, validation_split, shuffle, extract_tensors_from_dataset)\u001b[0m\n\u001b[1;32m   2470\u001b[0m           \u001b[0mfeed_input_shapes\u001b[0m\u001b[0;34m,\u001b[0m\u001b[0;34m\u001b[0m\u001b[0;34m\u001b[0m\u001b[0m\n\u001b[1;32m   2471\u001b[0m           \u001b[0mcheck_batch_axis\u001b[0m\u001b[0;34m=\u001b[0m\u001b[0;32mFalse\u001b[0m\u001b[0;34m,\u001b[0m  \u001b[0;31m# Don't enforce the batch size.\u001b[0m\u001b[0;34m\u001b[0m\u001b[0;34m\u001b[0m\u001b[0m\n\u001b[0;32m-> 2472\u001b[0;31m           exception_prefix='input')\n\u001b[0m\u001b[1;32m   2473\u001b[0m \u001b[0;34m\u001b[0m\u001b[0m\n\u001b[1;32m   2474\u001b[0m     \u001b[0;31m# Get typespecs for the input data and sanitize it if necessary.\u001b[0m\u001b[0;34m\u001b[0m\u001b[0;34m\u001b[0m\u001b[0;34m\u001b[0m\u001b[0m\n",
      "\u001b[0;32m~/opt/anaconda3/lib/python3.7/site-packages/tensorflow_core/python/keras/engine/training_utils.py\u001b[0m in \u001b[0;36mstandardize_input_data\u001b[0;34m(data, names, shapes, check_batch_axis, exception_prefix)\u001b[0m\n\u001b[1;32m    563\u001b[0m                            \u001b[0;34m': expected '\u001b[0m \u001b[0;34m+\u001b[0m \u001b[0mnames\u001b[0m\u001b[0;34m[\u001b[0m\u001b[0mi\u001b[0m\u001b[0;34m]\u001b[0m \u001b[0;34m+\u001b[0m \u001b[0;34m' to have '\u001b[0m \u001b[0;34m+\u001b[0m\u001b[0;34m\u001b[0m\u001b[0;34m\u001b[0m\u001b[0m\n\u001b[1;32m    564\u001b[0m                            \u001b[0mstr\u001b[0m\u001b[0;34m(\u001b[0m\u001b[0mlen\u001b[0m\u001b[0;34m(\u001b[0m\u001b[0mshape\u001b[0m\u001b[0;34m)\u001b[0m\u001b[0;34m)\u001b[0m \u001b[0;34m+\u001b[0m \u001b[0;34m' dimensions, but got array '\u001b[0m\u001b[0;34m\u001b[0m\u001b[0;34m\u001b[0m\u001b[0m\n\u001b[0;32m--> 565\u001b[0;31m                            'with shape ' + str(data_shape))\n\u001b[0m\u001b[1;32m    566\u001b[0m         \u001b[0;32mif\u001b[0m \u001b[0;32mnot\u001b[0m \u001b[0mcheck_batch_axis\u001b[0m\u001b[0;34m:\u001b[0m\u001b[0;34m\u001b[0m\u001b[0;34m\u001b[0m\u001b[0m\n\u001b[1;32m    567\u001b[0m           \u001b[0mdata_shape\u001b[0m \u001b[0;34m=\u001b[0m \u001b[0mdata_shape\u001b[0m\u001b[0;34m[\u001b[0m\u001b[0;36m1\u001b[0m\u001b[0;34m:\u001b[0m\u001b[0;34m]\u001b[0m\u001b[0;34m\u001b[0m\u001b[0;34m\u001b[0m\u001b[0m\n",
      "\u001b[0;31mValueError\u001b[0m: Error when checking input: expected conv2d_22_input to have 4 dimensions, but got array with shape (4585896, 1)"
     ]
    }
   ],
   "source": [
    "from tensorflow.keras.optimizers import Adam\n",
    "\n",
    "checkpointer = ModelCheckpoint(filepath=\"best_weights2.hdf5\", verbose=0, save_best_only=True) # save best model\n",
    "\n",
    "cnn = Sequential()\n",
    "\n",
    "cnn.add(Conv2D(64, kernel_size=(1, 2), strides=(1, 1), activation='relu', input_shape=(1, 42, 1)))\n",
    "cnn.add(MaxPooling2D(pool_size=(1,2)))\n",
    "cnn.add(Conv2D(128, kernel_size=(1, 2), strides=(1, 1), activation='relu'))\n",
    "cnn.add(MaxPooling2D(pool_size=(1,2)))\n",
    "cnn.add(Flatten())\n",
    "cnn.add(Dense(1024, activation=\"relu\"))\n",
    "cnn.add(Dropout(0.5))\n",
    "cnn.add(Dense(2, activation=\"softmax\"))\n",
    "\n",
    "cnn.compile(loss=\"categorical_crossentropy\", optimizer=\"adam\")\n",
    "\n",
    "monitor = EarlyStopping(monitor='val_loss', min_delta=1e-3, patience=5, verbose=1, mode='auto')\n",
    "\n",
    "cnn.fit(x_train, y_train, callbacks=[monitor,checkpointer], epochs=10, verbose=0,validation_data=(x_test, y_test))"
   ]
  },
  {
   "cell_type": "code",
   "execution_count": 41,
   "id": "7e75b468",
   "metadata": {},
   "outputs": [
    {
     "name": "stdout",
     "output_type": "stream",
     "text": [
      "Final accuracy: 0.9961535291370168\n"
     ]
    },
    {
     "data": {
      "image/png": "[encoded data removed]",
      "text/plain": [
       "<Figure size 432x288 with 2 Axes>"
      ]
     },
     "metadata": {
      "needs_background": "light"
     },
     "output_type": "display_data"
    },
    {
     "name": "stdout",
     "output_type": "stream",
     "text": [
      "              precision    recall  f1-score   support\n",
      "\n",
      "           0       0.99      1.00      1.00     21905\n",
      "           1       1.00      0.99      1.00     14492\n",
      "\n",
      "    accuracy                           1.00     36397\n",
      "   macro avg       1.00      1.00      1.00     36397\n",
      "weighted avg       1.00      1.00      1.00     36397\n",
      "\n"
     ]
    }
   ],
   "source": [
    "cnn = Sequential()\n",
    "cnn.add(Conv2D(64, kernel_size=(1, 2), strides=(1, 1), activation='relu',input_shape=(1, 42, 1)))\n",
    "cnn.add(MaxPooling2D(pool_size=(1,2)))\n",
    "cnn.add(Conv2D(128, kernel_size=(1, 2), strides=(1, 1), activation='relu'))\n",
    "cnn.add(MaxPooling2D(pool_size=(1,2)))\n",
    "cnn.add(Flatten())\n",
    "cnn.add(Dense(1024, activation=\"relu\"))\n",
    "cnn.add(Dropout(0.5))\n",
    "cnn.add(Dense(2, activation=\"softmax\"))\n",
    "\n",
    "cnn.compile(loss=\"categorical_crossentropy\", optimizer=\"adam\")\n",
    "\n",
    "cnn.load_weights('best_weights2.hdf5') # load weights from best model\n",
    "\n",
    "\n",
    "pred = cnn.predict(x_test)\n",
    "pred = np.argmax(pred,axis=1)\n",
    "y_true = np.argmax(y_test,axis=1)\n",
    "\n",
    "\n",
    "score = metrics.accuracy_score(y_true, pred)\n",
    "print(\"Final accuracy: {}\".format(score))\n",
    "\n",
    "cm = confusion_matrix(y_true, pred)\n",
    "\n",
    "plt.figure()\n",
    "helpers.plot_confusion_matrix(cm, outcome)\n",
    "plt.show()\n",
    "\n",
    "print(classification_report(y_true, pred))"
   ]
  },
  {
   "cell_type": "code",
   "execution_count": null,
   "id": "5df17be5",
   "metadata": {},
   "outputs": [],
   "source": []
  }
 ],
 "metadata": {
  "kernelspec": {
   "display_name": "Python 3",
   "language": "python",
   "name": "python3"
  },
  "language_info": {
   "codemirror_mode": {
    "name": "ipython",
    "version": 3
   },
   "file_extension": ".py",
   "mimetype": "text/x-python",
   "name": "python",
   "nbconvert_exporter": "python",
   "pygments_lexer": "ipython3",
   "version": "3.7.10"
  }
 },
 "nbformat": 4,
 "nbformat_minor": 5
}
