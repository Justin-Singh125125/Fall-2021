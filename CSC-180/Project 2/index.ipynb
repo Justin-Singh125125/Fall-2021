{
 "cells": [
  {
   "cell_type": "code",
   "execution_count": 1,
   "id": "6163c328",
   "metadata": {},
   "outputs": [],
   "source": [
    "from importlib.machinery import SourceFileLoader\n",
    "helpers = SourceFileLoader(\"helpers\", \"../helpers.py\").load_module()\n",
    "import pandas as pd\n",
    "from sklearn.model_selection import train_test_split\n",
    "from tensorflow.keras.models import Sequential\n",
    "from tensorflow.keras.layers import Dense, Activation, Dropout, Flatten\n",
    "from tensorflow.keras.callbacks import EarlyStopping\n",
    "import numpy as np\n",
    "from sklearn.metrics import confusion_matrix, classification_report\n",
    "from sklearn import metrics\n",
    "import matplotlib.pyplot as plt\n",
    "from tensorflow.keras.callbacks import ModelCheckpoint\n",
    "\n",
    "network_intrusion_data_frame = pd.read_csv('./dataset/network_intrusion_data.csv')\n",
    "\n",
    "\n",
    "def label_encoder(label):\n",
    "    if(label == 'normal.'):\n",
    "        return '0'\n",
    "    return '1'\n",
    "\n",
    "\n",
    "columns = [\n",
    "    'duration',   \n",
    "    'protocol_type',    \n",
    "    'service',    \n",
    "    'flag',    \n",
    "    'src_bytes',    \n",
    "    'dst_bytes',    \n",
    "    'land',    \n",
    "    'wrong_fragment',    \n",
    "    'urgent',    \n",
    "    'hot',    \n",
    "    'num_failed_logins',    \n",
    "    'logged_in',    \n",
    "    'num_compromised',    \n",
    "    'root_shell',    \n",
    "    'su_attempted',\n",
    "    'num_root',    \n",
    "    'num_file_creations',    \n",
    "    'num_shells',    \n",
    "    'num_access_files',    \n",
    "    'num_outbound_cmds',    \n",
    "    'is_host_login',   \n",
    "    'is_guest_login',   \n",
    "    'count',  \n",
    "    'srv_count',  \n",
    "    'serror_rate',   \n",
    "    'srv_serror_rate', \n",
    "    'rerror_rate',  \n",
    "    'srv_rerror_rate', \n",
    "    'same_srv_rate',   \n",
    "    'diff_srv_rate',    \n",
    "    'srv_diff_host_rate',  \n",
    "    'dst_host_count', \n",
    "    'dst_host_srv_count',  \n",
    "    'dst_host_same_srv_rate', \n",
    "    'dst_host_diff_srv_rate',    \n",
    "    'dst_host_same_src_port_rate',  \n",
    "    'dst_host_srv_diff_host_rate',  \n",
    "    'dst_host_serror_rate',  \n",
    "    'dst_host_srv_serror_rate',  \n",
    "    'dst_host_rerror_rate',   \n",
    "    'dst_host_srv_rerror_rate',    \n",
    "    'outcome'] \n",
    "\n",
    "\n",
    "network_intrusion_data_frame.columns = columns\n",
    "\n",
    "# drop rows with missing values since data is not complete\n",
    "network_intrusion_data_frame.dropna()\n",
    "\n",
    "# drop redudant rows so we do not get biased data in testing phase\n",
    "network_intrusion_data_frame.drop_duplicates(keep='first', inplace=True)\n",
    "\n",
    "# here i encoded all normal outcomes to 0 and attacks to 1\n",
    "network_intrusion_data_frame['outcome'] = network_intrusion_data_frame['outcome'].map(label_encoder)\n",
    "\n",
    "outcome = helpers.encode_text_index(network_intrusion_data_frame,'outcome')\n",
    "\n",
    "for x in columns:\n",
    "    if(x != 'outcome'):\n",
    "        helpers.encode_text_index(network_intrusion_data_frame, x)\n",
    "    \n"
   ]
  },
  {
   "cell_type": "markdown",
   "id": "6b637800",
   "metadata": {},
   "source": [
    "# Fully-Connected Neural Network Training \n",
    "\n"
   ]
  },
  {
   "cell_type": "code",
   "execution_count": 2,
   "id": "7985797a",
   "metadata": {},
   "outputs": [],
   "source": [
    "x,y = helpers.to_xy(network_intrusion_data_frame, 'outcome')\n",
    "\n",
    "x_train, x_test, y_train, y_test = train_test_split(x, y)"
   ]
  },
  {
   "cell_type": "markdown",
   "id": "32752c50",
   "metadata": {},
   "source": [
    "#  relu and adam"
   ]
  },
  {
   "cell_type": "code",
   "execution_count": 3,
   "id": "c9f1991f",
   "metadata": {},
   "outputs": [
    {
     "name": "stdout",
     "output_type": "stream",
     "text": [
      "Epoch 00014: early stopping\n",
      "Final accuracy: 0.9971975712283979\n"
     ]
    },
    {
     "data": {
      "image/png": "[encoded data removed]",
      "text/plain": [
       "<Figure size 432x288 with 2 Axes>"
      ]
     },
     "metadata": {
      "needs_background": "light"
     },
     "output_type": "display_data"
    },
    {
     "name": "stdout",
     "output_type": "stream",
     "text": [
      "              precision    recall  f1-score   support\n",
      "\n",
      "           0       1.00      1.00      1.00     21916\n",
      "           1       1.00      1.00      1.00     14481\n",
      "\n",
      "    accuracy                           1.00     36397\n",
      "   macro avg       1.00      1.00      1.00     36397\n",
      "weighted avg       1.00      1.00      1.00     36397\n",
      "\n"
     ]
    }
   ],
   "source": [
    "model = Sequential()\n",
    "model.add(Dense(20, input_dim=x.shape[1], activation='relu'))\n",
    "model.add(Dense(10, activation='relu'))\n",
    "model.add(Dense(y.shape[1], activation='softmax'))\n",
    "model.compile(loss='categorical_crossentropy', optimizer='adam')\n",
    "\n",
    "monitor = EarlyStopping(monitor='val_loss', min_delta=1e-3, patience=5, verbose=1, mode='auto')\n",
    "\n",
    "model.fit(x_train,y_train,validation_data=(x_test,y_test),callbacks=[monitor],verbose=0,epochs=100)\n",
    "\n",
    "pred = model.predict(x_test)\n",
    "pred = np.argmax(pred,axis=1)\n",
    "y_true = np.argmax(y_test,axis=1)\n",
    "\n",
    "\n",
    "score = metrics.accuracy_score(y_true, pred)\n",
    "print(\"Final accuracy: {}\".format(score))\n",
    "    \n",
    "\n",
    "cm = confusion_matrix(y_true, pred)\n",
    "\n",
    "plt.figure()\n",
    "helpers.plot_confusion_matrix(cm, outcome)\n",
    "plt.show()\n",
    "\n",
    "print(classification_report(y_true, pred))"
   ]
  },
  {
   "cell_type": "markdown",
   "id": "e704a4dc",
   "metadata": {},
   "source": [
    "# relu and sgd"
   ]
  },
  {
   "cell_type": "code",
   "execution_count": 4,
   "id": "d8e994f9",
   "metadata": {},
   "outputs": [
    {
     "name": "stdout",
     "output_type": "stream",
     "text": [
      "Epoch 00006: early stopping\n",
      "Final accuracy: 0.6021924883919004\n"
     ]
    },
    {
     "data": {
      "image/png": "[encoded data removed]",
      "text/plain": [
       "<Figure size 432x288 with 2 Axes>"
      ]
     },
     "metadata": {
      "needs_background": "light"
     },
     "output_type": "display_data"
    },
    {
     "name": "stdout",
     "output_type": "stream",
     "text": [
      "              precision    recall  f1-score   support\n",
      "\n",
      "           0       0.60      1.00      0.75     21916\n",
      "           1       1.00      0.00      0.00     14481\n",
      "\n",
      "    accuracy                           0.60     36397\n",
      "   macro avg       0.80      0.50      0.38     36397\n",
      "weighted avg       0.76      0.60      0.45     36397\n",
      "\n"
     ]
    }
   ],
   "source": [
    "model = Sequential()\n",
    "model.add(Dense(20, input_dim=x.shape[1], activation='relu'))\n",
    "model.add(Dense(10, activation='relu'))\n",
    "model.add(Dense(y.shape[1], activation='softmax'))\n",
    "model.compile(loss='categorical_crossentropy', optimizer='sgd')\n",
    "\n",
    "monitor = EarlyStopping(monitor='val_loss', min_delta=1e-3, patience=5, verbose=1, mode='auto')\n",
    "\n",
    "model.fit(x_train,y_train,validation_data=(x_test,y_test),callbacks=[monitor],verbose=0,epochs=100)\n",
    "\n",
    "pred = model.predict(x_test)\n",
    "pred = np.argmax(pred,axis=1)\n",
    "y_true = np.argmax(y_test,axis=1)\n",
    "\n",
    "\n",
    "score = metrics.accuracy_score(y_true, pred)\n",
    "print(\"Final accuracy: {}\".format(score))\n",
    "    \n",
    "\n",
    "cm = confusion_matrix(y_true, pred)\n",
    "\n",
    "plt.figure()\n",
    "helpers.plot_confusion_matrix(cm, outcome)\n",
    "plt.show()\n",
    "\n",
    "print(classification_report(y_true, pred))"
   ]
  },
  {
   "cell_type": "markdown",
   "id": "593b4970",
   "metadata": {},
   "source": [
    "# sigmoid and adam"
   ]
  },
  {
   "cell_type": "code",
   "execution_count": 5,
   "id": "08039346",
   "metadata": {},
   "outputs": [
    {
     "name": "stdout",
     "output_type": "stream",
     "text": [
      "Epoch 00015: early stopping\n",
      "Final accuracy: 0.9969502981014918\n"
     ]
    },
    {
     "data": {
      "image/png": "[encoded data removed]",
      "text/plain": [
       "<Figure size 432x288 with 2 Axes>"
      ]
     },
     "metadata": {
      "needs_background": "light"
     },
     "output_type": "display_data"
    },
    {
     "name": "stdout",
     "output_type": "stream",
     "text": [
      "              precision    recall  f1-score   support\n",
      "\n",
      "           0       1.00      1.00      1.00     21916\n",
      "           1       1.00      0.99      1.00     14481\n",
      "\n",
      "    accuracy                           1.00     36397\n",
      "   macro avg       1.00      1.00      1.00     36397\n",
      "weighted avg       1.00      1.00      1.00     36397\n",
      "\n"
     ]
    }
   ],
   "source": [
    "model = Sequential()\n",
    "model.add(Dense(20, input_dim=x.shape[1], activation='sigmoid'))\n",
    "model.add(Dense(10, activation='sigmoid'))\n",
    "model.add(Dense(y.shape[1], activation='softmax'))\n",
    "model.compile(loss='categorical_crossentropy', optimizer='adam')\n",
    "\n",
    "monitor = EarlyStopping(monitor='val_loss', min_delta=1e-3, patience=5, verbose=1, mode='auto')\n",
    "\n",
    "model.fit(x_train,y_train,validation_data=(x_test,y_test),callbacks=[monitor],verbose=0,epochs=100)\n",
    "\n",
    "pred = model.predict(x_test)\n",
    "pred = np.argmax(pred,axis=1)\n",
    "y_true = np.argmax(y_test,axis=1)\n",
    "\n",
    "\n",
    "score = metrics.accuracy_score(y_true, pred)\n",
    "print(\"Final accuracy: {}\".format(score))\n",
    "    \n",
    "\n",
    "cm = confusion_matrix(y_true, pred)\n",
    "\n",
    "plt.figure()\n",
    "helpers.plot_confusion_matrix(cm, outcome)\n",
    "plt.show()\n",
    "\n",
    "print(classification_report(y_true, pred))"
   ]
  },
  {
   "cell_type": "markdown",
   "id": "d15ba1c5",
   "metadata": {},
   "source": [
    "# sigmoid and sgd"
   ]
  },
  {
   "cell_type": "code",
   "execution_count": 6,
   "id": "60cfc577",
   "metadata": {},
   "outputs": [
    {
     "name": "stdout",
     "output_type": "stream",
     "text": [
      "Epoch 00027: early stopping\n",
      "Final accuracy: 0.9826908811165755\n"
     ]
    },
    {
     "data": {
      "image/png": "[encoded data removed]",
      "text/plain": [
       "<Figure size 432x288 with 2 Axes>"
      ]
     },
     "metadata": {
      "needs_background": "light"
     },
     "output_type": "display_data"
    },
    {
     "name": "stdout",
     "output_type": "stream",
     "text": [
      "              precision    recall  f1-score   support\n",
      "\n",
      "           0       0.97      1.00      0.99     21916\n",
      "           1       1.00      0.96      0.98     14481\n",
      "\n",
      "    accuracy                           0.98     36397\n",
      "   macro avg       0.99      0.98      0.98     36397\n",
      "weighted avg       0.98      0.98      0.98     36397\n",
      "\n"
     ]
    }
   ],
   "source": [
    "model = Sequential()\n",
    "model.add(Dense(20, input_dim=x.shape[1], activation='sigmoid'))\n",
    "model.add(Dense(10, activation='sigmoid'))\n",
    "model.add(Dense(y.shape[1], activation='softmax'))\n",
    "model.compile(loss='categorical_crossentropy', optimizer='sgd')\n",
    "\n",
    "monitor = EarlyStopping(monitor='val_loss', min_delta=1e-3, patience=5, verbose=1, mode='auto')\n",
    "\n",
    "model.fit(x_train,y_train,validation_data=(x_test,y_test),callbacks=[monitor],verbose=0,epochs=100)\n",
    "\n",
    "pred = model.predict(x_test)\n",
    "pred = np.argmax(pred,axis=1)\n",
    "y_true = np.argmax(y_test,axis=1)\n",
    "\n",
    "\n",
    "score = metrics.accuracy_score(y_true, pred)\n",
    "print(\"Final accuracy: {}\".format(score))\n",
    "    \n",
    "\n",
    "cm = confusion_matrix(y_true, pred)\n",
    "\n",
    "plt.figure()\n",
    "helpers.plot_confusion_matrix(cm, outcome)\n",
    "plt.show()\n",
    "\n",
    "print(classification_report(y_true, pred))"
   ]
  },
  {
   "cell_type": "markdown",
   "id": "a22c8a8e",
   "metadata": {},
   "source": [
    "# tanh and adam"
   ]
  },
  {
   "cell_type": "code",
   "execution_count": 7,
   "id": "056d68d6",
   "metadata": {},
   "outputs": [
    {
     "name": "stdout",
     "output_type": "stream",
     "text": [
      "Epoch 00010: early stopping\n",
      "Final accuracy: 0.995494134131934\n"
     ]
    },
    {
     "data": {
      "image/png": "[encoded data removed]",
      "text/plain": [
       "<Figure size 432x288 with 2 Axes>"
      ]
     },
     "metadata": {
      "needs_background": "light"
     },
     "output_type": "display_data"
    },
    {
     "name": "stdout",
     "output_type": "stream",
     "text": [
      "              precision    recall  f1-score   support\n",
      "\n",
      "           0       1.00      1.00      1.00     21916\n",
      "           1       0.99      0.99      0.99     14481\n",
      "\n",
      "    accuracy                           1.00     36397\n",
      "   macro avg       1.00      1.00      1.00     36397\n",
      "weighted avg       1.00      1.00      1.00     36397\n",
      "\n"
     ]
    }
   ],
   "source": [
    "model = Sequential()\n",
    "model.add(Dense(20, input_dim=x.shape[1], activation='tanh'))\n",
    "model.add(Dense(10, activation='tanh'))\n",
    "model.add(Dense(y.shape[1], activation='softmax'))\n",
    "model.compile(loss='categorical_crossentropy', optimizer='adam')\n",
    "\n",
    "monitor = EarlyStopping(monitor='val_loss', min_delta=1e-3, patience=5, verbose=1, mode='auto')\n",
    "\n",
    "model.fit(x_train,y_train,validation_data=(x_test,y_test),callbacks=[monitor],verbose=0,epochs=100)\n",
    "\n",
    "pred = model.predict(x_test)\n",
    "pred = np.argmax(pred,axis=1)\n",
    "y_true = np.argmax(y_test,axis=1)\n",
    "\n",
    "\n",
    "score = metrics.accuracy_score(y_true, pred)\n",
    "print(\"Final accuracy: {}\".format(score))\n",
    "    \n",
    "\n",
    "cm = confusion_matrix(y_true, pred)\n",
    "\n",
    "plt.figure()\n",
    "helpers.plot_confusion_matrix(cm, outcome)\n",
    "plt.show()\n",
    "\n",
    "print(classification_report(y_true, pred))"
   ]
  },
  {
   "cell_type": "markdown",
   "id": "076255c9",
   "metadata": {},
   "source": [
    "# tanh and sgd"
   ]
  },
  {
   "cell_type": "code",
   "execution_count": 8,
   "id": "8077e95c",
   "metadata": {},
   "outputs": [
    {
     "name": "stdout",
     "output_type": "stream",
     "text": [
      "Epoch 00007: early stopping\n",
      "Final accuracy: 0.9837623979998351\n"
     ]
    },
    {
     "data": {
      "image/png": "[encoded data removed]",
      "text/plain": [
       "<Figure size 432x288 with 2 Axes>"
      ]
     },
     "metadata": {
      "needs_background": "light"
     },
     "output_type": "display_data"
    },
    {
     "name": "stdout",
     "output_type": "stream",
     "text": [
      "              precision    recall  f1-score   support\n",
      "\n",
      "           0       0.98      1.00      0.99     21916\n",
      "           1       1.00      0.96      0.98     14481\n",
      "\n",
      "    accuracy                           0.98     36397\n",
      "   macro avg       0.99      0.98      0.98     36397\n",
      "weighted avg       0.98      0.98      0.98     36397\n",
      "\n"
     ]
    }
   ],
   "source": [
    "model = Sequential()\n",
    "model.add(Dense(20, input_dim=x.shape[1], activation='tanh'))\n",
    "model.add(Dense(10, activation='tanh'))\n",
    "model.add(Dense(y.shape[1], activation='softmax'))\n",
    "model.compile(loss='categorical_crossentropy', optimizer='sgd')\n",
    "\n",
    "monitor = EarlyStopping(monitor='val_loss', min_delta=1e-3, patience=5, verbose=1, mode='auto')\n",
    "\n",
    "model.fit(x_train,y_train,validation_data=(x_test,y_test),callbacks=[monitor],verbose=0,epochs=100)\n",
    "\n",
    "pred = model.predict(x_test)\n",
    "pred = np.argmax(pred,axis=1)\n",
    "y_true = np.argmax(y_test,axis=1)\n",
    "\n",
    "\n",
    "score = metrics.accuracy_score(y_true, pred)\n",
    "print(\"Final accuracy: {}\".format(score))\n",
    "    \n",
    "\n",
    "cm = confusion_matrix(y_true, pred)\n",
    "\n",
    "plt.figure()\n",
    "helpers.plot_confusion_matrix(cm, outcome)\n",
    "plt.show()\n",
    "\n",
    "print(classification_report(y_true, pred))"
   ]
  },
  {
   "cell_type": "markdown",
   "id": "56e9c414",
   "metadata": {},
   "source": [
    "# Convolutional Neural Networks (CNN)"
   ]
  },
  {
   "cell_type": "code",
   "execution_count": 9,
   "id": "03b06997",
   "metadata": {},
   "outputs": [],
   "source": [
    "# turning into numpy array simulates an image. \n",
    "x = network_intrusion_data_frame.to_numpy()\n",
    "y = network_intrusion_data_frame['outcome'].to_numpy()"
   ]
  },
  {
   "cell_type": "code",
   "execution_count": 10,
   "id": "13c67219",
   "metadata": {},
   "outputs": [],
   "source": [
    "import tensorflow as tf\n",
    "\n",
    "rowLength = len(x)\n",
    "columLength = len(x[0])\n",
    "\n",
    "x = x.reshape((rowLength, 1, columLength, 1))\n",
    "y_one_hot = tf.keras.utils.to_categorical(y, 2)"
   ]
  },
  {
   "cell_type": "code",
   "execution_count": 11,
   "id": "395886b3",
   "metadata": {},
   "outputs": [],
   "source": [
    "from tensorflow.keras.layers import Conv2D, MaxPooling2D\n",
    "\n",
    "x_train, x_test, y_train, y_test = train_test_split(x, y_one_hot)\n",
    "\n",
    "# convert to float32 for normalization\n",
    "x_train = x_train.astype('float32')\n",
    "x_test = x_test.astype('float32')\n",
    "\n",
    "# normalize the data values to the range [0, 1]\n",
    "x_train /= 255\n",
    "x_test /= 255"
   ]
  },
  {
   "cell_type": "code",
   "execution_count": 12,
   "id": "6f2b53e4",
   "metadata": {},
   "outputs": [
    {
     "name": "stdout",
     "output_type": "stream",
     "text": [
      "Train on 109188 samples, validate on 36397 samples\n",
      "Epoch 1/3\n",
      "109188/109188 [==============================] - 81s 746us/sample - loss: 0.2205 - val_loss: 0.0457\n",
      "Epoch 2/3\n",
      "109188/109188 [==============================] - 84s 770us/sample - loss: 0.2031 - val_loss: 0.0463\n",
      "Epoch 3/3\n",
      "109188/109188 [==============================] - 84s 772us/sample - loss: 0.1972 - val_loss: 0.0378\n",
      "Final accuracy: 0.9775805698271836\n"
     ]
    },
    {
     "data": {
      "image/png": "[encoded data removed]",
      "text/plain": [
       "<Figure size 432x288 with 2 Axes>"
      ]
     },
     "metadata": {
      "needs_background": "light"
     },
     "output_type": "display_data"
    },
    {
     "name": "stdout",
     "output_type": "stream",
     "text": [
      "              precision    recall  f1-score   support\n",
      "\n",
      "           0       0.96      1.00      0.98     21945\n",
      "           1       1.00      0.94      0.97     14452\n",
      "\n",
      "    accuracy                           0.98     36397\n",
      "   macro avg       0.98      0.97      0.98     36397\n",
      "weighted avg       0.98      0.98      0.98     36397\n",
      "\n"
     ]
    }
   ],
   "source": [
    "from tensorflow.keras.optimizers import Adam\n",
    "\n",
    "cnn = Sequential()\n",
    "\n",
    "cnn.add(Conv2D(64, kernel_size=(1, 2), strides=(1, 1), activation='relu', input_shape=(1, 42, 1)))\n",
    "cnn.add(MaxPooling2D(pool_size=(1,2)))\n",
    "cnn.add(Conv2D(128, kernel_size=(1, 2), strides=(1, 1), activation='relu'))\n",
    "cnn.add(MaxPooling2D(pool_size=(1,2)))\n",
    "cnn.add(Flatten())\n",
    "cnn.add(Dense(5, activation=\"relu\"))\n",
    "cnn.add(Dropout(0.5))\n",
    "cnn.add(Dense(2, activation=\"softmax\"))\n",
    "\n",
    "cnn.compile(loss=\"categorical_crossentropy\", optimizer=\"adam\")\n",
    "\n",
    "monitor = EarlyStopping(monitor='val_loss', min_delta=1e-3, patience=5, verbose=1, mode='auto')\n",
    "\n",
    "cnn.fit(x_train, y_train, callbacks=[monitor], epochs=3, verbose=1, validation_data=(x_test, y_test))\n",
    "\n",
    "pred = cnn.predict(x_test)\n",
    "pred = np.argmax(pred,axis=1)\n",
    "y_true = np.argmax(y_test,axis=1)\n",
    "\n",
    "\n",
    "score = metrics.accuracy_score(y_true, pred)\n",
    "print(\"Final accuracy: {}\".format(score))\n",
    "\n",
    "cm = confusion_matrix(y_true, pred)\n",
    "\n",
    "plt.figure()\n",
    "helpers.plot_confusion_matrix(cm, outcome)\n",
    "plt.show()\n",
    "\n",
    "print(classification_report(y_true, pred))"
   ]
  },
  {
   "cell_type": "code",
   "execution_count": null,
   "id": "5df17be5",
   "metadata": {},
   "outputs": [],
   "source": []
  }
 ],
 "metadata": {
  "kernelspec": {
   "display_name": "Python 3",
   "language": "python",
   "name": "python3"
  },
  "language_info": {
   "codemirror_mode": {
    "name": "ipython",
    "version": 3
   },
   "file_extension": ".py",
   "mimetype": "text/x-python",
   "name": "python",
   "nbconvert_exporter": "python",
   "pygments_lexer": "ipython3",
   "version": "3.7.10"
  }
 },
 "nbformat": 4,
 "nbformat_minor": 5
}
