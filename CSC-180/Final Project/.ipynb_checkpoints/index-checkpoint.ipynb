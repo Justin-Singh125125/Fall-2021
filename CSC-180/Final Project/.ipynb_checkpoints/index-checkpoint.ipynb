{
 "cells": [
  {
   "cell_type": "code",
   "execution_count": null,
   "id": "6fa2b5c1",
   "metadata": {},
   "outputs": [],
   "source": [
    "from PIL import Image\n",
    "import matplotlib.pyplot as plt\n",
    "import glob\n",
    "import pandas as pd\n",
    "import numpy as np\n",
    "from sklearn.model_selection import train_test_split\n",
    "from tensorflow.keras.optimizers import SGD\n",
    "from tensorflow.keras.callbacks import EarlyStopping, ModelCheckpoint\n",
    "from tensorflow.keras.models import Sequential\n",
    "from tensorflow.keras.layers import Dense, Dropout, Activation, Flatten\n",
    "from tensorflow.keras.layers import Conv2D, MaxPooling2D\n",
    "import tensorflow as tf\n",
    "from sklearn import metrics\n",
    "from tensorflow.keras.applications.vgg16 import VGG16"
   ]
  },
  {
   "cell_type": "code",
   "execution_count": null,
   "id": "828aa2c7",
   "metadata": {},
   "outputs": [],
   "source": [
    "images = []\n",
    "image_classes = []\n",
    "\n",
    "for i in range(len(classes)):\n",
    "    imagePaths = glob.glob('./dataset/images/' + classes[i][0] + '/*.jpg') \n",
    "    count = 0\n",
    "    for imgPath in imagePaths:\n",
    "            count += 1\n",
    "            if count < 3:\n",
    "                img = Image.open(imgPath).convert(\"RGB\")\n",
    "                img = img.resize((200, 200))\n",
    "                img.load()\n",
    "                data = np.asarray(img, dtype=\"int32\")\n",
    "                images.append(data)\n",
    "                image_classes.append(i)\n",
    "\n",
    "        \n",
    "images = np.array(images)\n",
    "image_classes = np.array(image_classes)\n",
    "\n",
    "print(images.shape)\n",
    "print(image_classes.shape)"
   ]
  },
  {
   "cell_type": "code",
   "execution_count": null,
   "id": "168c103a",
   "metadata": {},
   "outputs": [],
   "source": [
    "x_train, x_test, y_train, y_test = train_test_split(images, image_classes)"
   ]
  },
  {
   "cell_type": "code",
   "execution_count": null,
   "id": "f0fe44b3",
   "metadata": {},
   "outputs": [],
   "source": [
    "print('x_train shape:', x_train.shape)\n",
    "print('y_train shape:', y_train.shape)\n",
    "\n",
    "print('x_test shape:', x_test.shape)\n",
    "print('y_test shape:', y_test.shape)\n",
    "\n",
    "\n",
    "print(x_train.shape[0], 'train samples')\n",
    "print(x_test.shape[0], 'test samples')"
   ]
  },
  {
   "cell_type": "code",
   "execution_count": null,
   "id": "37f5cc33",
   "metadata": {},
   "outputs": [],
   "source": [
    "plt.imshow(x_train[15])"
   ]
  },
  {
   "cell_type": "code",
   "execution_count": null,
   "id": "b43dbfe7",
   "metadata": {},
   "outputs": [],
   "source": [
    "y_train = tf.keras.utils.to_categorical(y_train, len(classes))\n",
    "y_test = tf.keras.utils.to_categorical(y_test, len(classes))"
   ]
  },
  {
   "cell_type": "code",
   "execution_count": null,
   "id": "e5e32da3",
   "metadata": {},
   "outputs": [],
   "source": [
    "print(y_train)\n",
    "print(y_test)"
   ]
  },
  {
   "cell_type": "code",
   "execution_count": null,
   "id": "1c0c5f2d",
   "metadata": {},
   "outputs": [],
   "source": [
    "x_train = x_train.astype('float32')\n",
    "x_test = x_test.astype('float32')\n",
    "\n",
    "x_train /= 255\n",
    "x_test /= 255\n",
    "\n",
    "print(x_train)\n",
    "print(x_test)"
   ]
  },
  {
   "cell_type": "code",
   "execution_count": null,
   "id": "ff33f212",
   "metadata": {},
   "outputs": [],
   "source": [
    "vgg_model = VGG16(weights='imagenet', include_top=False, input_shape=(200, 200, 3))\n",
    "\n",
    "model = Sequential()\n",
    "\n",
    "for layer in vgg_model.layers:\n",
    "  model.add(layer)\n",
    "\n",
    "model.summary()"
   ]
  },
  {
   "cell_type": "code",
   "execution_count": null,
   "id": "d26bf774",
   "metadata": {},
   "outputs": [],
   "source": [
    "for layer in model.layers:\n",
    "  layer.trainable = False"
   ]
  },
  {
   "cell_type": "code",
   "execution_count": null,
   "id": "6398e714",
   "metadata": {},
   "outputs": [],
   "source": [
    "# model.add(Dense(128, activation=\"relu\"))\n",
    "model.add(11, activation='softmax'))"
   ]
  },
  {
   "cell_type": "code",
   "execution_count": null,
   "id": "0f98ea55",
   "metadata": {},
   "outputs": [],
   "source": [
    "model.summary()"
   ]
  },
  {
   "cell_type": "code",
   "execution_count": null,
   "id": "28303fe0",
   "metadata": {},
   "outputs": [],
   "source": [
    "opt = SGD(learning_rate=0.001, momentum=0.9)\n",
    "monitor = EarlyStopping(monitor='val_loss', min_delta=1e-3, patience=5, verbose=1, mode='auto')\n",
    "\n",
    "model.compile(loss=\"categorical_crossentropy\", optimizer=opt)\n",
    "\n",
    "model.fit(x_train, y_train, epochs=100, verbose=1 ,callbacks=[monitor], validation_data=(x_test, y_test))"
   ]
  },
  {
   "cell_type": "code",
   "execution_count": null,
   "id": "7fb9ba18",
   "metadata": {},
   "outputs": [],
   "source": [
    "pred = model.predict(x_test)\n",
    "pred = np.argmax(pred,axis=1)\n",
    "\n",
    "y_true = np.argmax(y_test ,axis=1)\n",
    "\n",
    "\n",
    "score = metrics.accuracy_score(y_true, pred)\n",
    "print('Precision: {}'.format(score))\n",
    "\n",
    "r1 = metrics.recall_score(y_true, pred, average='weighted')\n",
    "print('Recall : {}'.format(r1))\n",
    "\n",
    "f1 = metrics.f1_score(y_true, pred, average='weighted')\n",
    "print('Averaged F1: {}'.format(f1))\n",
    "\n",
    "print(metrics.classification_report(y_true, pred))"
   ]
  },
  {
   "cell_type": "code",
   "execution_count": null,
   "id": "32ea06cb",
   "metadata": {},
   "outputs": [],
   "source": [
    "fig = plt.figure(figsize=(20, 20))\n",
    "\n",
    "rows = 5\n",
    "\n",
    "images = x_test[0:rows];\n",
    "\n",
    "for i in range(len(images)):\n",
    "  fig.add_subplot(rows, 1, i+1)\n",
    "\n",
    "  plt.imshow(x_test[i])\n",
    "  plt.axis('off')\n",
    "  plt.title(\"True Labels: {} \\n Predicted Labels: {}\".format(classes[y_true[i]][0], classes[pred[i]][0]))"
   ]
  },
  {
   "cell_type": "code",
   "execution_count": null,
   "id": "a8a09a3b",
   "metadata": {},
   "outputs": [],
   "source": []
  }
 ],
 "metadata": {
  "kernelspec": {
   "display_name": "Python 3",
   "language": "python",
   "name": "python3"
  }
 },
 "nbformat": 4,
 "nbformat_minor": 5
}
