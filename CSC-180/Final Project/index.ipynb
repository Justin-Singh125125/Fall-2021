{
 "cells": [
  {
   "cell_type": "code",
   "execution_count": 191,
   "id": "9110e22c",
   "metadata": {},
   "outputs": [],
   "source": [
    "from PIL import Image\n",
    "import matplotlib.pyplot as plt\n",
    "import glob\n",
    "import pandas as pd\n",
    "import numpy as np\n",
    "from sklearn.model_selection import train_test_split"
   ]
  },
  {
   "cell_type": "code",
   "execution_count": 214,
   "id": "0a48c289",
   "metadata": {},
   "outputs": [
    {
     "name": "stdout",
     "output_type": "stream",
     "text": [
      "(32, 200, 200, 4)\n"
     ]
    }
   ],
   "source": [
    "imagePaths = glob.glob('./dataset/images/' + classes[0][0] + '/*.jpg') \n",
    "\n",
    "images = []\n",
    "for imgPath in imagePaths:\n",
    "        img = Image.open(imgPath)\n",
    "        img = img.resize((200, 200))\n",
    "        img.load()\n",
    "        data = np.asarray(img, dtype=\"int32\")\n",
    "        images.append(data)\n",
    "\n",
    "\n",
    "\n",
    "images = np.array(images, dtype=object)\n",
    "\n",
    "print(images.shape)\n",
    "\n",
    "\n",
    "# print(images[0].shape)\n",
    "\n",
    "# images = images.reshape(32, 64, 64, 4)"
   ]
  },
  {
   "cell_type": "code",
   "execution_count": 215,
   "id": "2749cbc8",
   "metadata": {},
   "outputs": [
    {
     "name": "stdout",
     "output_type": "stream",
     "text": [
      "Acura RL Sedan 2012\n",
      "(32,)\n"
     ]
    }
   ],
   "source": [
    "classes_data_frame = pd.read_csv('./dataset/names.csv')\n",
    "classes = np.array(classes_data_frame)\n",
    "\n",
    "\n",
    "single_class = []\n",
    "\n",
    "for img in images:\n",
    "    single_class.append(classes[0][0])\n",
    "    \n",
    "single_class = np.array(single_class)\n",
    "    \n",
    "print(single_class[0])\n",
    "print(single_class.shape)"
   ]
  },
  {
   "cell_type": "code",
   "execution_count": 204,
   "id": "04fc3806",
   "metadata": {},
   "outputs": [],
   "source": [
    "x_train, x_test, y_train, y_test = train_test_split(np_images, single_class)"
   ]
  },
  {
   "cell_type": "code",
   "execution_count": 125,
   "id": "f52dca5f",
   "metadata": {},
   "outputs": [
    {
     "name": "stdout",
     "output_type": "stream",
     "text": [
      "(24,)\n",
      "(8,)\n",
      "(24,)\n",
      "(8,)\n"
     ]
    }
   ],
   "source": [
    "print(x_train.shape)\n",
    "print(x_test.shape)\n",
    "print(y_train.shape)\n",
    "print(y_test.shape)"
   ]
  },
  {
   "cell_type": "code",
   "execution_count": null,
   "id": "ee7a7129",
   "metadata": {},
   "outputs": [],
   "source": []
  },
  {
   "cell_type": "code",
   "execution_count": null,
   "id": "eae1971d",
   "metadata": {},
   "outputs": [],
   "source": []
  }
 ],
 "metadata": {
  "kernelspec": {
   "display_name": "Python 3",
   "language": "python",
   "name": "python3"
  },
  "language_info": {
   "codemirror_mode": {
    "name": "ipython",
    "version": 3
   },
   "file_extension": ".py",
   "mimetype": "text/x-python",
   "name": "python",
   "nbconvert_exporter": "python",
   "pygments_lexer": "ipython3",
   "version": "3.7.10"
  }
 },
 "nbformat": 4,
 "nbformat_minor": 5
}
