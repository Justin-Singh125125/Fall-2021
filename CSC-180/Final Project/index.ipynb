{
 "cells": [
  {
   "cell_type": "code",
   "execution_count": null,
   "id": "6fa2b5c1",
   "metadata": {},
   "outputs": [],
   "source": [
    "from PIL import Image\n",
    "import matplotlib.pyplot as plt\n",
    "import glob\n",
    "import pandas as pd\n",
    "import numpy as np\n",
    "from sklearn.model_selection import train_test_split\n",
    "from tensorflow.keras.optimizers import SGD\n",
    "from tensorflow.keras.callbacks import EarlyStopping, ModelCheckpoint\n",
    "from tensorflow.keras.models import Sequential\n",
    "from tensorflow.keras.layers import Dense, Dropout, Activation, Flatten\n",
    "from tensorflow.keras.layers import Conv2D, MaxPooling2D\n",
    "import tensorflow as tf\n",
    "from sklearn import metrics\n",
    "from tensorflow.keras.applications.vgg16 import VGG16\n",
    "from tensorflow.keras.optimizers import Adam\n",
    "from sklearn.metrics import roc_curve"
   ]
  },
  {
   "cell_type": "code",
   "execution_count": null,
   "id": "92af7e5b",
   "metadata": {},
   "outputs": [],
   "source": [
    "def plot_roc(pred,y):\n",
    "    fpr, tpr, thresholds = roc_curve(y, pred)\n",
    "    roc_auc = auc(fpr, tpr)\n",
    "\n",
    "    plt.figure()\n",
    "    plt.plot(fpr, tpr, label='ROC curve (area = %0.2f)' % roc_auc)\n",
    "    plt.plot([0, 1], [0, 1], 'k--')\n",
    "    plt.xlim([0.0, 1.0])\n",
    "    plt.ylim([0.0, 1.05])\n",
    "    plt.xlabel('False Positive Rate')\n",
    "    plt.ylabel('True Positive Rate')\n",
    "    plt.title('Receiver Operating Characteristic (ROC)')\n",
    "    plt.legend(loc=\"lower right\")\n",
    "    plt.show()"
   ]
  },
  {
   "cell_type": "code",
   "execution_count": null,
   "id": "dd78aebc",
   "metadata": {},
   "outputs": [],
   "source": [
    "classes = ['Tesla Model S Sedan 2012','Toyota Sequoia SUV 2012', 'Infiniti G Coupe IPL 2012', 'Lamborghini Aventador Coupe 2012', 'HUMMER H3T Crew Cab 2010']\n",
    "print(len(classes))"
   ]
  },
  {
   "cell_type": "markdown",
   "id": "e3dd76a4",
   "metadata": {},
   "source": [
    "# Without Transfer Learning (64 x 64)"
   ]
  },
  {
   "cell_type": "code",
   "execution_count": null,
   "id": "940d74de",
   "metadata": {},
   "outputs": [],
   "source": [
    "images = []\n",
    "image_classes = []\n",
    "\n",
    "for i in range(len(classes)):\n",
    "    imagePaths = glob.glob('./dataset/custom/' + classes[i] + '/*.jpg')\n",
    "    imageCount = 0\n",
    "    for imgPath in imagePaths:\n",
    "        if imageCount < 1000:\n",
    "            imageCount += 1\n",
    "            img = Image.open(imgPath).convert(\"RGB\")\n",
    "            img = img.resize((64, 64))\n",
    "            img.load()\n",
    "            data = np.asarray(img, dtype=\"int32\")\n",
    "            images.append(data)\n",
    "            image_classes.append(i)\n",
    "            \n",
    "\n",
    "        \n",
    "images = np.array(images)\n",
    "image_classes = np.array(image_classes)\n",
    "\n",
    "print(images.shape)\n",
    "print(image_classes.shape)\n",
    "print(len(classes))"
   ]
  },
  {
   "cell_type": "code",
   "execution_count": null,
   "id": "76d6b716",
   "metadata": {},
   "outputs": [],
   "source": [
    "x_train, x_test, y_train, y_test = train_test_split(images, image_classes, stratify=image_classes, random_state=123, shuffle=True, test_size=0.7)"
   ]
  },
  {
   "cell_type": "code",
   "execution_count": null,
   "id": "2cf73555",
   "metadata": {},
   "outputs": [],
   "source": [
    "print(x_train.shape)\n",
    "print(x_test.shape)\n",
    "print(y_train.shape)\n",
    "print(y_test.shape)\n",
    "\n",
    "\n",
    "print(np.unique(image_classes))\n",
    "print(np.unique(y_train))\n",
    "print(np.unique(y_test))"
   ]
  },
  {
   "cell_type": "code",
   "execution_count": null,
   "id": "45884ed8",
   "metadata": {},
   "outputs": [],
   "source": [
    "print('x_train shape:', x_train.shape)\n",
    "print('y_train shape:', y_train.shape)\n",
    "\n",
    "print('x_test shape:', x_test.shape)\n",
    "print('y_test shape:', y_test.shape)\n",
    "\n",
    "plt.imshow(x_train[0])\n",
    "print(classes[y_train[0]])"
   ]
  },
  {
   "cell_type": "code",
   "execution_count": null,
   "id": "77266b2a",
   "metadata": {},
   "outputs": [],
   "source": [
    "# previous shape\n",
    "print(y_train.shape)\n",
    "print(y_test.shape)\n"
   ]
  },
  {
   "cell_type": "code",
   "execution_count": null,
   "id": "e2b2313f",
   "metadata": {},
   "outputs": [],
   "source": [
    "print(len(classes))\n",
    "y_train = tf.keras.utils.to_categorical(y_train, len(classes))\n",
    "y_test = tf.keras.utils.to_categorical(y_test, len(classes))\n",
    "\n",
    "\n",
    "print(np.unique(y_train))\n",
    "print(np.unique(y_test))"
   ]
  },
  {
   "cell_type": "code",
   "execution_count": null,
   "id": "5ed0a50f",
   "metadata": {},
   "outputs": [],
   "source": [
    "# after shape\n",
    "print(y_train.shape)\n",
    "print(y_test.shape)"
   ]
  },
  {
   "cell_type": "code",
   "execution_count": null,
   "id": "f9dc1551",
   "metadata": {},
   "outputs": [],
   "source": [
    "x_train = x_train.astype('float32')\n",
    "x_test = x_test.astype('float32')\n",
    "\n",
    "x_train /= 255\n",
    "x_test /= 255\n",
    "\n",
    "\n",
    "\n",
    "print(x_train)\n",
    "print(x_test)"
   ]
  },
  {
   "cell_type": "code",
   "execution_count": null,
   "id": "79436060",
   "metadata": {},
   "outputs": [],
   "source": [
    "from tensorflow.keras.optimizers import SGD\n",
    "model = Sequential()\n",
    "\n",
    "model.add(Conv2D(32, (3, 3), activation='relu', kernel_initializer='he_uniform', padding='same', input_shape=(x_train.shape[1], x_train.shape[2], 3)))\n",
    "model.add(Conv2D(32, (3, 3), activation='relu', kernel_initializer='he_uniform', padding='same'))\n",
    "model.add(MaxPooling2D((2, 2)))\n",
    "\n",
    "model.add(Conv2D(64, (3, 3), activation='relu', kernel_initializer='he_uniform', padding='same'))\n",
    "model.add(Conv2D(64, (3, 3), activation='relu', kernel_initializer='he_uniform', padding='same'))\n",
    "model.add(MaxPooling2D((2, 2)))\n",
    "\n",
    "model.add(Conv2D(128, (3, 3), activation='relu', kernel_initializer='he_uniform', padding='same'))\n",
    "model.add(Conv2D(128, (3, 3), activation='relu', kernel_initializer='he_uniform', padding='same'))\n",
    "model.add(MaxPooling2D((2, 2)))\n",
    "\n",
    "model.add(Flatten())\n",
    "model.add(Dense(128, activation='relu', kernel_initializer='he_uniform'))\n",
    "model.add(Dense(5, activation='softmax'))"
   ]
  },
  {
   "cell_type": "code",
   "execution_count": null,
   "id": "131ed187",
   "metadata": {},
   "outputs": [],
   "source": [
    "monitor = EarlyStopping(monitor='val_loss', min_delta=1e-3, patience=5, verbose=1, mode='auto')\n",
    "\n",
    "model.compile(loss=\"categorical_crossentropy\", optimizer=Adam(lr=0.0001))\n",
    "\n",
    "model.fit(x_train, y_train, epochs=1, verbose=1 ,callbacks=[monitor], validation_data=(x_test, y_test))"
   ]
  },
  {
   "cell_type": "code",
   "execution_count": null,
   "id": "d03ccd2a",
   "metadata": {},
   "outputs": [],
   "source": [
    "pred = model.predict(x_test)\n",
    "pred = np.argmax(pred,axis=1)\n",
    "\n",
    "y_true = np.argmax(y_test ,axis=1)\n",
    "\n",
    "score = metrics.accuracy_score(y_true, pred)\n",
    "print('Precision: {}'.format(score))\n",
    "\n",
    "r1 = metrics.recall_score(y_true, pred, average='weighted')\n",
    "print('Recall : {}'.format(r1))\n",
    "\n",
    "f1 = metrics.f1_score(y_true, pred, average='weighted')\n",
    "print('Averaged F1: {}'.format(f1))\n",
    "\n",
    "print(metrics.classification_report(y_true, pred))"
   ]
  },
  {
   "cell_type": "code",
   "execution_count": null,
   "id": "0e11dfd2",
   "metadata": {},
   "outputs": [],
   "source": [
    "fig = plt.figure(figsize=(20, 20))\n",
    "\n",
    "rows = 5\n",
    "\n",
    "images = x_test[0:rows];\n",
    "\n",
    "for i in range(len(images)):\n",
    "  fig.add_subplot(rows, 1, i+1)\n",
    "\n",
    "  plt.imshow(x_test[i])\n",
    "  plt.axis('off')\n",
    "  plt.title(\"True Labels: {} \\n Predicted Labels: {}\".format(classes[y_true[i]], classes[pred[i]]))"
   ]
  },
  {
   "cell_type": "markdown",
   "id": "406303ad",
   "metadata": {},
   "source": [
    "# With Transfer Learning (64 x 64)"
   ]
  },
  {
   "cell_type": "code",
   "execution_count": null,
   "id": "44f38e29",
   "metadata": {},
   "outputs": [],
   "source": [
    "images = []\n",
    "image_classes = []\n",
    "\n",
    "for i in range(len(classes)):\n",
    "    imagePaths = glob.glob('./dataset/custom/' + classes[i] + '/*.jpg')\n",
    "    imageCount = 0\n",
    "    for imgPath in imagePaths:\n",
    "        if imageCount < 1000:\n",
    "            imageCount += 1\n",
    "            img = Image.open(imgPath).convert(\"RGB\")\n",
    "            img = img.resize((64, 64))\n",
    "            img.load()\n",
    "            data = np.asarray(img, dtype=\"int32\")\n",
    "            images.append(data)\n",
    "            image_classes.append(i)\n",
    "            \n",
    "\n",
    "        \n",
    "images = np.array(images)\n",
    "image_classes = np.array(image_classes)\n",
    "\n",
    "print(images.shape)\n",
    "print(image_classes.shape)\n",
    "print(len(classes))"
   ]
  },
  {
   "cell_type": "code",
   "execution_count": null,
   "id": "168c103a",
   "metadata": {},
   "outputs": [],
   "source": [
    "x_train, x_test, y_train, y_test = train_test_split(images, image_classes, stratify=image_classes, random_state=123, shuffle=True, test_size=0.7)"
   ]
  },
  {
   "cell_type": "code",
   "execution_count": null,
   "id": "9b60c19c",
   "metadata": {},
   "outputs": [],
   "source": [
    "print(x_train.shape)\n",
    "print(x_test.shape)\n",
    "print(y_train.shape)\n",
    "print(y_test.shape)\n",
    "\n",
    "\n",
    "print(np.unique(image_classes))\n",
    "print(np.unique(y_train))\n",
    "print(np.unique(y_test))"
   ]
  },
  {
   "cell_type": "code",
   "execution_count": null,
   "id": "f0fe44b3",
   "metadata": {},
   "outputs": [],
   "source": [
    "print('x_train shape:', x_train.shape)\n",
    "print('y_train shape:', y_train.shape)\n",
    "\n",
    "print('x_test shape:', x_test.shape)\n",
    "print('y_test shape:', y_test.shape)"
   ]
  },
  {
   "cell_type": "code",
   "execution_count": null,
   "id": "37f5cc33",
   "metadata": {},
   "outputs": [],
   "source": [
    "plt.imshow(x_train[0])\n",
    "print(classes[y_train[0]])"
   ]
  },
  {
   "cell_type": "code",
   "execution_count": null,
   "id": "186cfb4f",
   "metadata": {},
   "outputs": [],
   "source": [
    "# previous shape\n",
    "print(y_train.shape)\n",
    "print(y_test.shape)\n"
   ]
  },
  {
   "cell_type": "code",
   "execution_count": null,
   "id": "b43dbfe7",
   "metadata": {},
   "outputs": [],
   "source": [
    "print(len(classes))\n",
    "y_train = tf.keras.utils.to_categorical(y_train, len(classes))\n",
    "y_test = tf.keras.utils.to_categorical(y_test, len(classes))\n",
    "\n",
    "\n",
    "print(np.unique(y_train))\n",
    "print(np.unique(y_test))"
   ]
  },
  {
   "cell_type": "code",
   "execution_count": null,
   "id": "83190e68",
   "metadata": {},
   "outputs": [],
   "source": [
    "# after shape\n",
    "print(y_train.shape)\n",
    "print(y_test.shape)"
   ]
  },
  {
   "cell_type": "code",
   "execution_count": null,
   "id": "1c0c5f2d",
   "metadata": {},
   "outputs": [],
   "source": [
    "x_train = x_train.astype('float32')\n",
    "x_test = x_test.astype('float32')\n",
    "\n",
    "x_train /= 255\n",
    "x_test /= 255\n",
    "\n",
    "\n",
    "\n",
    "print(x_train)\n",
    "print(x_test)"
   ]
  },
  {
   "cell_type": "code",
   "execution_count": null,
   "id": "ff33f212",
   "metadata": {},
   "outputs": [],
   "source": [
    "vgg_model = VGG16(weights='imagenet', include_top=False, input_shape=(64, 64, 3))\n",
    "\n",
    "model = Sequential()\n",
    "\n",
    "for layer in vgg_model.layers:\n",
    "  model.add(layer)\n",
    "\n",
    "model.summary()"
   ]
  },
  {
   "cell_type": "code",
   "execution_count": null,
   "id": "d26bf774",
   "metadata": {},
   "outputs": [],
   "source": [
    "for layer in model.layers:\n",
    "  layer.trainable = False"
   ]
  },
  {
   "cell_type": "code",
   "execution_count": null,
   "id": "6398e714",
   "metadata": {},
   "outputs": [],
   "source": [
    "\n",
    "model.add(Flatten())\n",
    "model.add(Dense(1024))\n",
    "model.add(Dense(1024))\n",
    "model.add(Dense(len(classes), activation=\"softmax\"))"
   ]
  },
  {
   "cell_type": "markdown",
   "id": "64161ae8",
   "metadata": {},
   "source": [
    "###### model.summary()"
   ]
  },
  {
   "cell_type": "code",
   "execution_count": null,
   "id": "28303fe0",
   "metadata": {},
   "outputs": [],
   "source": [
    "print(x_test.shape)\n",
    "print(y_test.shape)\n",
    "\n",
    "monitor = EarlyStopping(monitor='val_loss', min_delta=1e-3, patience=5, verbose=1, mode='auto')\n",
    "\n",
    "model.compile(loss=\"categorical_crossentropy\", optimizer=Adam(lr=0.0001))\n",
    "\n",
    "model.fit(x_train, y_train, epochs=1, verbose=1 ,callbacks=[monitor], validation_data=(x_test, y_test))"
   ]
  },
  {
   "cell_type": "code",
   "execution_count": null,
   "id": "7fb9ba18",
   "metadata": {
    "scrolled": true
   },
   "outputs": [],
   "source": [
    "pred = model.predict(x_test)\n",
    "pred = np.argmax(pred,axis=1)\n",
    "\n",
    "y_true = np.argmax(y_test ,axis=1)\n",
    "\n",
    "score = metrics.accuracy_score(y_true, pred)\n",
    "print('Precision: {}'.format(score))\n",
    "\n",
    "r1 = metrics.recall_score(y_true, pred, average='weighted')\n",
    "print('Recall : {}'.format(r1))\n",
    "\n",
    "f1 = metrics.f1_score(y_true, pred, average='weighted')\n",
    "print('Averaged F1: {}'.format(f1))\n",
    "\n",
    "print(metrics.classification_report(y_true, pred))"
   ]
  },
  {
   "cell_type": "code",
   "execution_count": null,
   "id": "32ea06cb",
   "metadata": {},
   "outputs": [],
   "source": [
    "fig = plt.figure(figsize=(20, 20))\n",
    "\n",
    "rows = 5\n",
    "\n",
    "images = x_test[0:rows];\n",
    "\n",
    "for i in range(len(images)):\n",
    "  fig.add_subplot(rows, 1, i+1)\n",
    "\n",
    "  plt.imshow(x_test[i])\n",
    "  plt.axis('off')\n",
    "  plt.title(\"True Labels: {} \\n Predicted Labels: {}\".format(classes[y_true[i]], classes[pred[i]]))"
   ]
  },
  {
   "cell_type": "markdown",
   "id": "dd7a0a79",
   "metadata": {},
   "source": [
    "# Without Transfer Learning (200 x 200)\n"
   ]
  },
  {
   "cell_type": "code",
   "execution_count": null,
   "id": "b283c28c",
   "metadata": {},
   "outputs": [],
   "source": [
    "images = []\n",
    "image_classes = []\n",
    "\n",
    "for i in range(len(classes)):\n",
    "    imagePaths = glob.glob('./dataset/custom/' + classes[i] + '/*.jpg')\n",
    "    imageCount = 0\n",
    "    for imgPath in imagePaths:\n",
    "        if imageCount < 1000:\n",
    "            imageCount += 1\n",
    "            img = Image.open(imgPath).convert(\"RGB\")\n",
    "            img = img.resize((64, 64))\n",
    "            img.load()\n",
    "            data = np.asarray(img, dtype=\"int32\")\n",
    "            images.append(data)\n",
    "            image_classes.append(i)\n",
    "            \n",
    "\n",
    "        \n",
    "images = np.array(images)\n",
    "image_classes = np.array(image_classes)\n",
    "\n",
    "print(images.shape)\n",
    "print(image_classes.shape)\n",
    "print(len(classes))"
   ]
  },
  {
   "cell_type": "code",
   "execution_count": null,
   "id": "13faa9b7",
   "metadata": {},
   "outputs": [],
   "source": [
    "x_train, x_test, y_train, y_test = train_test_split(images, image_classes, stratify=image_classes, random_state=123, shuffle=True, test_size=0.7)"
   ]
  },
  {
   "cell_type": "code",
   "execution_count": null,
   "id": "8b2174c6",
   "metadata": {},
   "outputs": [],
   "source": [
    "print(x_train.shape)\n",
    "print(x_test.shape)\n",
    "print(y_train.shape)\n",
    "print(y_test.shape)\n",
    "\n",
    "\n",
    "print(np.unique(image_classes))\n",
    "print(np.unique(y_train))\n",
    "print(np.unique(y_test))"
   ]
  },
  {
   "cell_type": "code",
   "execution_count": null,
   "id": "59e7aca3",
   "metadata": {},
   "outputs": [],
   "source": [
    "print('x_train shape:', x_train.shape)\n",
    "print('y_train shape:', y_train.shape)\n",
    "\n",
    "print('x_test shape:', x_test.shape)\n",
    "print('y_test shape:', y_test.shape)\n",
    "\n",
    "plt.imshow(x_train[0])\n",
    "print(classes[y_train[0]])"
   ]
  },
  {
   "cell_type": "code",
   "execution_count": null,
   "id": "d43f09bb",
   "metadata": {},
   "outputs": [],
   "source": [
    "# previous shape\n",
    "print(y_train.shape)\n",
    "print(y_test.shape)\n"
   ]
  },
  {
   "cell_type": "code",
   "execution_count": null,
   "id": "e8b9693d",
   "metadata": {},
   "outputs": [],
   "source": [
    "print(len(classes))\n",
    "y_train = tf.keras.utils.to_categorical(y_train, len(classes))\n",
    "y_test = tf.keras.utils.to_categorical(y_test, len(classes))\n",
    "\n",
    "\n",
    "print(np.unique(y_train))\n",
    "print(np.unique(y_test))"
   ]
  },
  {
   "cell_type": "code",
   "execution_count": null,
   "id": "9a16fb70",
   "metadata": {},
   "outputs": [],
   "source": [
    "# after shape\n",
    "print(y_train.shape)\n",
    "print(y_test.shape)"
   ]
  },
  {
   "cell_type": "code",
   "execution_count": null,
   "id": "ce5f502d",
   "metadata": {},
   "outputs": [],
   "source": [
    "x_train = x_train.astype('float32')\n",
    "x_test = x_test.astype('float32')\n",
    "\n",
    "x_train /= 255\n",
    "x_test /= 255\n",
    "\n",
    "\n",
    "\n",
    "print(x_train)\n",
    "print(x_test)"
   ]
  },
  {
   "cell_type": "code",
   "execution_count": null,
   "id": "74ec5235",
   "metadata": {},
   "outputs": [],
   "source": [
    "from tensorflow.keras.optimizers import SGD\n",
    "model = Sequential()\n",
    "\n",
    "model.add(Conv2D(32, (3, 3), activation='relu', kernel_initializer='he_uniform', padding='same', input_shape=(x_train.shape[1], x_train.shape[2], 3)))\n",
    "model.add(Conv2D(32, (3, 3), activation='relu', kernel_initializer='he_uniform', padding='same'))\n",
    "model.add(MaxPooling2D((2, 2)))\n",
    "\n",
    "model.add(Conv2D(64, (3, 3), activation='relu', kernel_initializer='he_uniform', padding='same'))\n",
    "model.add(Conv2D(64, (3, 3), activation='relu', kernel_initializer='he_uniform', padding='same'))\n",
    "model.add(MaxPooling2D((2, 2)))\n",
    "\n",
    "model.add(Conv2D(128, (3, 3), activation='relu', kernel_initializer='he_uniform', padding='same'))\n",
    "model.add(Conv2D(128, (3, 3), activation='relu', kernel_initializer='he_uniform', padding='same'))\n",
    "model.add(MaxPooling2D((2, 2)))\n",
    "\n",
    "model.add(Flatten())\n",
    "model.add(Dense(128, activation='relu', kernel_initializer='he_uniform'))\n",
    "model.add(Dense(5, activation='softmax'))"
   ]
  },
  {
   "cell_type": "code",
   "execution_count": null,
   "id": "a2a65052",
   "metadata": {},
   "outputs": [],
   "source": [
    "monitor = EarlyStopping(monitor='val_loss', min_delta=1e-3, patience=5, verbose=1, mode='auto')\n",
    "\n",
    "model.compile(loss=\"categorical_crossentropy\", optimizer=Adam(lr=0.0001))\n",
    "\n",
    "model.fit(x_train, y_train, epochs=1, verbose=1 ,callbacks=[monitor], validation_data=(x_test, y_test))"
   ]
  },
  {
   "cell_type": "code",
   "execution_count": null,
   "id": "27d6c8c1",
   "metadata": {},
   "outputs": [],
   "source": [
    "pred = model.predict(x_test)\n",
    "pred = np.argmax(pred,axis=1)\n",
    "\n",
    "y_true = np.argmax(y_test ,axis=1)\n",
    "\n",
    "score = metrics.accuracy_score(y_true, pred)\n",
    "print('Precision: {}'.format(score))\n",
    "\n",
    "r1 = metrics.recall_score(y_true, pred, average='weighted')\n",
    "print('Recall : {}'.format(r1))\n",
    "\n",
    "f1 = metrics.f1_score(y_true, pred, average='weighted')\n",
    "print('Averaged F1: {}'.format(f1))\n",
    "\n",
    "print(metrics.classification_report(y_true, pred))"
   ]
  },
  {
   "cell_type": "code",
   "execution_count": null,
   "id": "e0e89f06",
   "metadata": {},
   "outputs": [],
   "source": [
    "fig = plt.figure(figsize=(20, 20))\n",
    "\n",
    "rows = 5\n",
    "\n",
    "images = x_test[0:rows];\n",
    "\n",
    "for i in range(len(images)):\n",
    "  fig.add_subplot(rows, 1, i+1)\n",
    "\n",
    "  plt.imshow(x_test[i])\n",
    "  plt.axis('off')\n",
    "  plt.title(\"True Labels: {} \\n Predicted Labels: {}\".format(classes[y_true[i]], classes[pred[i]]))"
   ]
  },
  {
   "cell_type": "markdown",
   "id": "38e82dc4",
   "metadata": {},
   "source": [
    "# With Transfer Learning (200 x 200)"
   ]
  },
  {
   "cell_type": "code",
   "execution_count": null,
   "id": "2b0e1319",
   "metadata": {},
   "outputs": [],
   "source": [
    "images = []\n",
    "image_classes = []\n",
    "\n",
    "for i in range(len(classes)):\n",
    "    imagePaths = glob.glob('./dataset/custom/' + classes[i] + '/*.jpg')\n",
    "    imageCount = 0\n",
    "    for imgPath in imagePaths:\n",
    "        if imageCount < 1000:\n",
    "            imageCount += 1\n",
    "            img = Image.open(imgPath).convert(\"RGB\")\n",
    "            img = img.resize((200, 200))\n",
    "            img.load()\n",
    "            data = np.asarray(img, dtype=\"int32\")\n",
    "            images.append(data)\n",
    "            image_classes.append(i)\n",
    "            \n",
    "\n",
    "        \n",
    "images = np.array(images)\n",
    "image_classes = np.array(image_classes)\n",
    "\n",
    "print(images.shape)\n",
    "print(image_classes.shape)\n",
    "print(len(classes))"
   ]
  },
  {
   "cell_type": "code",
   "execution_count": null,
   "id": "73ca17bc",
   "metadata": {},
   "outputs": [],
   "source": [
    "x_train, x_test, y_train, y_test = train_test_split(images, image_classes, stratify=image_classes, random_state=123, shuffle=True, test_size=0.7)"
   ]
  },
  {
   "cell_type": "code",
   "execution_count": null,
   "id": "3d0ab140",
   "metadata": {},
   "outputs": [],
   "source": [
    "print(x_train.shape)\n",
    "print(x_test.shape)\n",
    "print(y_train.shape)\n",
    "print(y_test.shape)\n",
    "\n",
    "\n",
    "print(np.unique(image_classes))\n",
    "print(np.unique(y_train))\n",
    "print(np.unique(y_test))"
   ]
  },
  {
   "cell_type": "code",
   "execution_count": null,
   "id": "90e85b9c",
   "metadata": {},
   "outputs": [],
   "source": [
    "print('x_train shape:', x_train.shape)\n",
    "print('y_train shape:', y_train.shape)\n",
    "\n",
    "print('x_test shape:', x_test.shape)\n",
    "print('y_test shape:', y_test.shape)"
   ]
  },
  {
   "cell_type": "code",
   "execution_count": null,
   "id": "03966555",
   "metadata": {},
   "outputs": [],
   "source": [
    "plt.imshow(x_train[0])\n",
    "print(classes[y_train[0]])"
   ]
  },
  {
   "cell_type": "code",
   "execution_count": null,
   "id": "74fcd04d",
   "metadata": {},
   "outputs": [],
   "source": [
    "# previous shape\n",
    "print(y_train.shape)\n",
    "print(y_test.shape)\n"
   ]
  },
  {
   "cell_type": "code",
   "execution_count": null,
   "id": "d398d26e",
   "metadata": {},
   "outputs": [],
   "source": [
    "print(len(classes))\n",
    "y_train = tf.keras.utils.to_categorical(y_train, len(classes))\n",
    "y_test = tf.keras.utils.to_categorical(y_test, len(classes))\n",
    "\n",
    "\n",
    "print(np.unique(y_train))\n",
    "print(np.unique(y_test))"
   ]
  },
  {
   "cell_type": "code",
   "execution_count": null,
   "id": "c9e2b9e0",
   "metadata": {},
   "outputs": [],
   "source": [
    "# after shape\n",
    "print(y_train.shape)\n",
    "print(y_test.shape)"
   ]
  },
  {
   "cell_type": "code",
   "execution_count": null,
   "id": "64b3a6c2",
   "metadata": {},
   "outputs": [],
   "source": [
    "x_train = x_train.astype('float32')\n",
    "x_test = x_test.astype('float32')\n",
    "\n",
    "x_train /= 255\n",
    "x_test /= 255\n",
    "\n",
    "\n",
    "\n",
    "print(x_train)\n",
    "print(x_test)"
   ]
  },
  {
   "cell_type": "code",
   "execution_count": null,
   "id": "27c89ad3",
   "metadata": {},
   "outputs": [],
   "source": [
    "vgg_model = VGG16(weights='imagenet', include_top=False, input_shape=(200, 200, 3))\n",
    "\n",
    "model = Sequential()\n",
    "\n",
    "for layer in vgg_model.layers:\n",
    "  model.add(layer)\n",
    "\n",
    "model.summary()"
   ]
  },
  {
   "cell_type": "code",
   "execution_count": null,
   "id": "99e3ad9b",
   "metadata": {},
   "outputs": [],
   "source": [
    "for layer in model.layers:\n",
    "  layer.trainable = False"
   ]
  },
  {
   "cell_type": "code",
   "execution_count": null,
   "id": "eabf3393",
   "metadata": {},
   "outputs": [],
   "source": [
    "\n",
    "model.add(Flatten())\n",
    "model.add(Dense(1024))\n",
    "model.add(Dense(1024))\n",
    "model.add(Dense(len(classes), activation=\"softmax\"))"
   ]
  },
  {
   "cell_type": "code",
   "execution_count": null,
   "id": "a295935e",
   "metadata": {},
   "outputs": [],
   "source": [
    "print(x_test.shape)\n",
    "print(y_test.shape)\n",
    "\n",
    "monitor = EarlyStopping(monitor='val_loss', min_delta=1e-3, patience=5, verbose=1, mode='auto')\n",
    "\n",
    "model.compile(loss=\"categorical_crossentropy\", optimizer=Adam(lr=0.0001))\n",
    "\n",
    "model.fit(x_train, y_train, epochs=1, verbose=1 ,callbacks=[monitor], validation_data=(x_test, y_test))"
   ]
  },
  {
   "cell_type": "code",
   "execution_count": null,
   "id": "aa1c7ac9",
   "metadata": {},
   "outputs": [],
   "source": [
    "pred = model.predict(x_test)\n",
    "pred = np.argmax(pred,axis=1)\n",
    "\n",
    "y_true = np.argmax(y_test ,axis=1)\n",
    "\n",
    "score = metrics.accuracy_score(y_true, pred)\n",
    "print('Precision: {}'.format(score))\n",
    "\n",
    "r1 = metrics.recall_score(y_true, pred, average='weighted')\n",
    "print('Recall : {}'.format(r1))\n",
    "\n",
    "f1 = metrics.f1_score(y_true, pred, average='weighted')\n",
    "print('Averaged F1: {}'.format(f1))\n",
    "\n",
    "print(metrics.classification_report(y_true, pred))"
   ]
  },
  {
   "cell_type": "code",
   "execution_count": null,
   "id": "ee6be06f",
   "metadata": {},
   "outputs": [],
   "source": [
    "fig = plt.figure(figsize=(20, 20))\n",
    "\n",
    "rows = 5\n",
    "\n",
    "images = x_test[0:rows];\n",
    "\n",
    "for i in range(len(images)):\n",
    "  fig.add_subplot(rows, 1, i+1)\n",
    "\n",
    "  plt.imshow(x_test[i])\n",
    "  plt.axis('off')\n",
    "  plt.title(\"True Labels: {} \\n Predicted Labels: {}\".format(classes[y_true[i]], classes[pred[i]]))"
   ]
  }
 ],
 "metadata": {
  "kernelspec": {
   "display_name": "Python 3",
   "language": "python",
   "name": "python3"
  },
  "language_info": {
   "codemirror_mode": {
    "name": "ipython",
    "version": 3
   },
   "file_extension": ".py",
   "mimetype": "text/x-python",
   "name": "python",
   "nbconvert_exporter": "python",
   "pygments_lexer": "ipython3",
   "version": "3.7.10"
  }
 },
 "nbformat": 4,
 "nbformat_minor": 5
}
