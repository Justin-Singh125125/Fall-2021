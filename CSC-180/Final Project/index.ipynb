{
 "cells": [
  {
   "cell_type": "code",
   "execution_count": 191,
   "id": "b18f32a3",
   "metadata": {},
   "outputs": [],
   "source": [
    "from PIL import Image\n",
    "import matplotlib.pyplot as plt\n",
    "import glob\n",
    "import pandas as pd\n",
    "import numpy as np\n",
    "from sklearn.model_selection import train_test_split"
   ]
  },
  {
   "cell_type": "code",
   "execution_count": 220,
   "id": "e40ffccf",
   "metadata": {},
   "outputs": [
    {
     "name": "stderr",
     "output_type": "stream",
     "text": [
      "Clipping input data to the valid range for imshow with RGB data ([0..1] for floats or [0..255] for integers).\n"
     ]
    },
    {
     "name": "stdout",
     "output_type": "stream",
     "text": [
      "(32, 200, 200, 4)\n"
     ]
    },
    {
     "data": {
      "text/plain": [
       "<matplotlib.image.AxesImage at 0x7fac235f7410>"
      ]
     },
     "execution_count": 220,
     "metadata": {},
     "output_type": "execute_result"
    },
    {
     "data": {
      "image/png": "[encoded data removed]",
      "text/plain": [
       "<Figure size 432x288 with 1 Axes>"
      ]
     },
     "metadata": {
      "needs_background": "light"
     },
     "output_type": "display_data"
    }
   ],
   "source": [
    "imagePaths = glob.glob('./dataset/images/' + classes[0][0] + '/*.jpg') \n",
    "\n",
    "images = []\n",
    "for imgPath in imagePaths:\n",
    "        img = Image.open(imgPath)\n",
    "        img = img.resize((200, 200))\n",
    "        img.load()\n",
    "        data = np.asarray(img, dtype=\"int32\")\n",
    "        images.append(data)\n",
    "\n",
    "\n",
    "\n",
    "images = np.array(images, dtype=object)\n",
    "\n",
    "print(images.shape)\n",
    "plt.imshow(images[0])"
   ]
  },
  {
   "cell_type": "code",
   "execution_count": 215,
   "id": "e3ef8f8b",
   "metadata": {},
   "outputs": [
    {
     "name": "stdout",
     "output_type": "stream",
     "text": [
      "Acura RL Sedan 2012\n",
      "(32,)\n"
     ]
    }
   ],
   "source": [
    "classes_data_frame = pd.read_csv('./dataset/names.csv')\n",
    "classes = np.array(classes_data_frame)\n",
    "\n",
    "\n",
    "single_class = []\n",
    "\n",
    "for img in images:\n",
    "    single_class.append(classes[0][0])\n",
    "    \n",
    "single_class = np.array(single_class)\n",
    "    \n",
    "print(single_class[0])\n",
    "print(single_class.shape)"
   ]
  },
  {
   "cell_type": "code",
   "execution_count": 204,
   "id": "0cfeab23",
   "metadata": {},
   "outputs": [],
   "source": [
    "x_train, x_test, y_train, y_test = train_test_split(np_images, single_class)"
   ]
  },
  {
   "cell_type": "code",
   "execution_count": 125,
   "id": "1625b123",
   "metadata": {},
   "outputs": [
    {
     "name": "stdout",
     "output_type": "stream",
     "text": [
      "(24,)\n",
      "(8,)\n",
      "(24,)\n",
      "(8,)\n"
     ]
    }
   ],
   "source": [
    "print(x_train.shape)\n",
    "print(x_test.shape)\n",
    "print(y_train.shape)\n",
    "print(y_test.shape)"
   ]
  },
  {
   "cell_type": "code",
   "execution_count": null,
   "id": "73c749a2",
   "metadata": {},
   "outputs": [],
   "source": []
  },
  {
   "cell_type": "code",
   "execution_count": null,
   "id": "b5dcdd29",
   "metadata": {},
   "outputs": [],
   "source": []
  }
 ],
 "metadata": {
  "kernelspec": {
   "display_name": "Python 3",
   "language": "python",
   "name": "python3"
  },
  "language_info": {
   "codemirror_mode": {
    "name": "ipython",
    "version": 3
   },
   "file_extension": ".py",
   "mimetype": "text/x-python",
   "name": "python",
   "nbconvert_exporter": "python",
   "pygments_lexer": "ipython3",
   "version": "3.7.10"
  }
 },
 "nbformat": 4,
 "nbformat_minor": 5
}
