{
 "cells": [
  {
   "cell_type": "markdown",
   "metadata": {
    "id": "GxGA1SMjVOTm"
   },
   "source": [
    "## Project 4:  Solving N-Queens Problem using Genetic Algorithms\n",
    "\n",
    "#### CSC 180  Intelligent Systems\n",
    "\n",
    "#### Dr. Haiquan Chen, California State University, Sacramento\n"
   ]
  },
  {
   "cell_type": "code",
   "execution_count": 168,
   "metadata": {
    "id": "RtI9dhMfMgBW"
   },
   "outputs": [],
   "source": [
    "# Justin Singh, 301690181, CSC-180, Project 4, Nov. 18"
   ]
  },
  {
   "cell_type": "markdown",
   "metadata": {
    "id": "HibX8kusV5PD"
   },
   "source": [
    "\n",
    "## Part I: Position-index-based board representation"
   ]
  },
  {
   "cell_type": "code",
   "execution_count": 169,
   "metadata": {
    "colab": {
     "base_uri": "https://localhost:8080/"
    },
    "id": "JBHQphqmI1H3",
    "outputId": "5b468790-4117-491c-b98b-dbb74ea5882e"
   },
   "outputs": [
    {
     "name": "stdout",
     "output_type": "stream",
     "text": [
      "Requirement already satisfied: deap in /usr/local/lib/python3.7/dist-packages (1.3.1)\n",
      "Requirement already satisfied: numpy in /usr/local/lib/python3.7/dist-packages (from deap) (1.19.5)\n"
     ]
    }
   ],
   "source": [
    "! pip install deap"
   ]
  },
  {
   "cell_type": "code",
   "execution_count": 170,
   "metadata": {
    "id": "u_d-AaWo-ZQq"
   },
   "outputs": [],
   "source": [
    "def getDistinctConflictsByRowIndex(individual):\n",
    "    n = len(individual)\n",
    "\n",
    "    row_frequency = [0] * n\n",
    "    main_diag_frequency = [0] * (2 * n)\n",
    "    secondary_diag_frequency = [0] * (2 * n)\n",
    "\n",
    "    for i in range(n):\n",
    "        row_frequency[individual[i]] += 1\n",
    "        main_diag_frequency[individual[i] + i] += 1\n",
    "        secondary_diag_frequency[n - individual[i] + i] += 1\n",
    "        \n",
    "    conflicts = 0\n",
    "\n",
    "    for i in range(2*n):\n",
    "        if i < n:\n",
    "            conflicts += (row_frequency[i] * (row_frequency[i]-1)) / 2\n",
    "        conflicts += (main_diag_frequency[i] * (main_diag_frequency[i]-1)) / 2\n",
    "        conflicts += (secondary_diag_frequency[i] * (secondary_diag_frequency[i]-1)) / 2\n",
    "        \n",
    "    return (int(conflicts), )\n",
    "\n",
    "def getRowIndexs(arr):\n",
    "  newArr = []\n",
    "\n",
    "  for x in arr:\n",
    "    newArr.append(x % len(arr))\n",
    "\n",
    "  return newArr"
   ]
  },
  {
   "cell_type": "code",
   "execution_count": 171,
   "metadata": {
    "colab": {
     "base_uri": "https://localhost:8080/"
    },
    "id": "LcEVm7paVOTo",
    "outputId": "1b002111-85ee-44f4-e88c-894b82751970"
   },
   "outputs": [
    {
     "name": "stderr",
     "output_type": "stream",
     "text": [
      "/usr/local/lib/python3.7/dist-packages/deap/creator.py:141: RuntimeWarning: A class named 'FitnessMin' has already been created and it will be overwritten. Consider deleting previous creation of that class or rename it.\n",
      "  RuntimeWarning)\n",
      "/usr/local/lib/python3.7/dist-packages/deap/creator.py:141: RuntimeWarning: A class named 'Individual' has already been created and it will be overwritten. Consider deleting previous creation of that class or rename it.\n",
      "  RuntimeWarning)\n"
     ]
    }
   ],
   "source": [
    "import random\n",
    "import numpy as np\n",
    "from deap import algorithms, base, creator, tools\n",
    "\n",
    "creator.create(\"FitnessMin\", base.Fitness, weights=(-1.0,))\n",
    "creator.create(\"Individual\", list, fitness=creator.FitnessMin)\n"
   ]
  },
  {
   "cell_type": "code",
   "execution_count": 172,
   "metadata": {
    "id": "AjYwh9eYVOTt"
   },
   "outputs": [],
   "source": [
    "def create_individual():\n",
    "    return random.sample(range(64), 8)"
   ]
  },
  {
   "cell_type": "code",
   "execution_count": 173,
   "metadata": {
    "colab": {
     "base_uri": "https://localhost:8080/"
    },
    "id": "V3rgKtu_VOTv",
    "outputId": "1b1d387f-2749-4479-f03e-43ab8a0eed9f"
   },
   "outputs": [
    {
     "name": "stdout",
     "output_type": "stream",
     "text": [
      "[48, 58, 63, 24, 5, 18, 17, 40]\n"
     ]
    }
   ],
   "source": [
    "print(create_individual())"
   ]
  },
  {
   "cell_type": "code",
   "execution_count": 174,
   "metadata": {
    "id": "ekoiWdxDVOTy"
   },
   "outputs": [],
   "source": [
    "def show_grid(board):\n",
    "    \n",
    "    n = [0]*64\n",
    "    for i in board:\n",
    "        n[i] = 1\n",
    "    \n",
    "    \n",
    "    for i in range(8):\n",
    "        for j in range(64):\n",
    "            if j // 8 == i:\n",
    "                if n[j] == 1:\n",
    "                    print('X',end=\"|\")\n",
    "                else:\n",
    "                    print('-',end=\"|\")\n",
    "        print()\n",
    "        print(\"----------------\")"
   ]
  },
  {
   "cell_type": "code",
   "execution_count": 175,
   "metadata": {
    "id": "N8XtgeUKVOT0"
   },
   "outputs": [],
   "source": [
    "toolbox = base.Toolbox()\n",
    "\n",
    "toolbox.register(\"individual\", tools.initIterate, creator.Individual, create_individual)\n",
    "\n",
    "toolbox.register(\"population\", tools.initRepeat, list, toolbox.individual)"
   ]
  },
  {
   "cell_type": "code",
   "execution_count": 176,
   "metadata": {
    "colab": {
     "base_uri": "https://localhost:8080/"
    },
    "id": "YTk0VOT-VOT3",
    "outputId": "e7ba481d-1320-49bc-dcdd-6a653b6006b2"
   },
   "outputs": [
    {
     "name": "stdout",
     "output_type": "stream",
     "text": [
      "[22, 59, 60, 24, 1, 5, 57, 33]\n"
     ]
    }
   ],
   "source": [
    "pop = toolbox.population(n=5)\n",
    "\n",
    "print(pop[0])"
   ]
  },
  {
   "cell_type": "code",
   "execution_count": 177,
   "metadata": {
    "colab": {
     "base_uri": "https://localhost:8080/"
    },
    "id": "letgI4JkVOT6",
    "outputId": "9550a11a-1e25-4abf-d5b7-80df8ceeaa5c"
   },
   "outputs": [
    {
     "name": "stdout",
     "output_type": "stream",
     "text": [
      "-|X|-|-|-|X|-|-|\n",
      "----------------\n",
      "-|-|-|-|-|-|-|-|\n",
      "----------------\n",
      "-|-|-|-|-|-|X|-|\n",
      "----------------\n",
      "X|-|-|-|-|-|-|-|\n",
      "----------------\n",
      "-|X|-|-|-|-|-|-|\n",
      "----------------\n",
      "-|-|-|-|-|-|-|-|\n",
      "----------------\n",
      "-|-|-|-|-|-|-|-|\n",
      "----------------\n",
      "-|X|-|X|X|-|-|-|\n",
      "----------------\n"
     ]
    }
   ],
   "source": [
    "show_grid(pop[0])"
   ]
  },
  {
   "cell_type": "markdown",
   "metadata": {
    "id": "qzj4Y0L5VOT8"
   },
   "source": [
    "### 10 pts:  Write your code in the cell below to define the \"evaFitness\" function, which returns the fitness of any given board.  \n",
    "\n",
    "- Noticed that in this case, mutation may generate invalid board, e.g., the board with dupliciate positions.  Think about   [5, 32, 8, 8, 41, 3, 55, 49]\n",
    "\n",
    "- How to exclude those invalid boards from each generation? One way is to add some penalty to the fitness value of invalid boards.  In that case, any invalid board will have a very high fitness value (remember that our goal is to find the board with least fitness value).    To do that, let's write a function ***checkDuplicate()*** to calculate the number of queen pairs in the same position for any given board.   ***Give each duplicate a high penalty (i.e., multiply by 20, 50) and add the penalty to the fitness value.*** \n",
    "\n",
    "-  evaFitness() returns the total number of duplicate position pair (with penalty) plus the total number of distinct pairs of queens that attack each other.  "
   ]
  },
  {
   "cell_type": "code",
   "execution_count": 178,
   "metadata": {
    "id": "ZTHRSMRMVOT8"
   },
   "outputs": [],
   "source": [
    "#fitness function\n",
    "def evaFitness(individual):\n",
    "    conflicts = getDistinctConflictsByRowIndex(getRowIndexs(individual))\n",
    "    return (checkDuplicate(individual) + conflicts[0],)\n",
    "   \n",
    "# Calculate the number of queen pairs in the same position for any given board\n",
    "def checkDuplicate(individual):\n",
    "    dup = 0\n",
    "    dup = len(individual) - len(set(individual))\n",
    "    return dup * 50   "
   ]
  },
  {
   "cell_type": "markdown",
   "metadata": {
    "id": "tikbcB_kVOT-"
   },
   "source": [
    "### 5 pts:  Writer your code in the cell below to register \"evaluate\" function to toolbox"
   ]
  },
  {
   "cell_type": "code",
   "execution_count": 179,
   "metadata": {
    "id": "bMjmesXqVOT_"
   },
   "outputs": [],
   "source": [
    "toolbox.register(\"evaluate\", evaFitness)"
   ]
  },
  {
   "cell_type": "code",
   "execution_count": 180,
   "metadata": {
    "id": "_eDjyzBlVOUB"
   },
   "outputs": [],
   "source": [
    "toolbox.register(\"mate\", tools.cxTwoPoint)\n",
    "\n",
    "toolbox.register(\"mutate\", tools.mutUniformInt, low = 0, up = 63, indpb=0.1)\n",
    "\n",
    "toolbox.register(\"select\", tools.selTournament, tournsize=3)"
   ]
  },
  {
   "cell_type": "code",
   "execution_count": 181,
   "metadata": {
    "id": "6uej76HoVOUD"
   },
   "outputs": [],
   "source": [
    "stats = tools.Statistics(key=lambda ind: ind.fitness.values)"
   ]
  },
  {
   "cell_type": "code",
   "execution_count": 182,
   "metadata": {
    "id": "W8cWVXmxVOUH"
   },
   "outputs": [],
   "source": [
    "stats.register(\"avg\", np.mean)\n",
    "stats.register(\"min\", np.min)"
   ]
  },
  {
   "cell_type": "markdown",
   "metadata": {
    "id": "OmnhqV_MVOUJ"
   },
   "source": [
    "### 10 pts:  Writer your code in the cell below to create the first generation, the hall of fame, and launch the genetic algorithm: eaSimple().   How many individuals you want to have for each generation and how many generations you want GA to go thourgh for each run?     Vary those two parameters to see the change. "
   ]
  },
  {
   "cell_type": "code",
   "execution_count": 183,
   "metadata": {
    "colab": {
     "base_uri": "https://localhost:8080/"
    },
    "id": "SsTaPuPgVOUK",
    "outputId": "9567dfd0-355a-48e8-8777-5439235eabbb"
   },
   "outputs": [
    {
     "name": "stdout",
     "output_type": "stream",
     "text": [
      "gen\tnevals\tavg \tmin\n",
      "0  \t100   \t7.41\t3  \n",
      "1  \t65    \t9.1 \t3  \n",
      "2  \t56    \t6.2 \t2  \n",
      "3  \t53    \t5.64\t2  \n",
      "4  \t39    \t6.3 \t2  \n",
      "5  \t60    \t5.14\t2  \n",
      "6  \t51    \t8.77\t2  \n",
      "7  \t53    \t5.41\t1  \n",
      "8  \t45    \t4.73\t1  \n",
      "9  \t48    \t5.87\t1  \n",
      "10 \t53    \t2.82\t1  \n",
      "11 \t48    \t3.06\t1  \n",
      "12 \t57    \t2.39\t1  \n",
      "13 \t45    \t3.66\t1  \n",
      "14 \t52    \t3.15\t1  \n",
      "15 \t57    \t4.7 \t1  \n",
      "16 \t53    \t2.48\t1  \n",
      "17 \t37    \t3.6 \t1  \n",
      "18 \t47    \t2.92\t1  \n",
      "19 \t42    \t2.95\t1  \n",
      "20 \t54    \t3.21\t1  \n",
      "21 \t47    \t2.58\t1  \n",
      "22 \t48    \t2.6 \t1  \n",
      "23 \t51    \t2.84\t1  \n",
      "24 \t57    \t2.53\t1  \n",
      "25 \t50    \t2.94\t1  \n",
      "26 \t52    \t2.15\t1  \n",
      "27 \t55    \t3.04\t1  \n",
      "28 \t63    \t4.3 \t1  \n",
      "29 \t53    \t3.57\t1  \n",
      "30 \t58    \t3.11\t1  \n",
      "31 \t63    \t2.28\t1  \n",
      "32 \t44    \t2.99\t1  \n",
      "33 \t53    \t3.63\t1  \n",
      "34 \t42    \t3.51\t1  \n",
      "35 \t57    \t3.14\t1  \n",
      "36 \t48    \t2.89\t1  \n",
      "37 \t50    \t4.12\t1  \n",
      "38 \t55    \t5.58\t1  \n",
      "39 \t60    \t3.2 \t1  \n",
      "40 \t51    \t2.45\t1  \n",
      "41 \t56    \t2.06\t1  \n",
      "42 \t56    \t4.14\t1  \n",
      "43 \t42    \t2.83\t1  \n",
      "44 \t59    \t4.16\t1  \n",
      "45 \t53    \t4.1 \t1  \n",
      "46 \t43    \t2.66\t1  \n",
      "47 \t50    \t4.03\t1  \n",
      "48 \t44    \t2.96\t1  \n",
      "49 \t54    \t3.05\t1  \n",
      "50 \t48    \t3.11\t1  \n",
      "51 \t48    \t1.85\t1  \n",
      "52 \t52    \t2.91\t1  \n",
      "53 \t53    \t2.53\t1  \n",
      "54 \t55    \t4   \t1  \n",
      "55 \t56    \t2.13\t1  \n",
      "56 \t63    \t5.06\t1  \n",
      "57 \t58    \t4.1 \t1  \n",
      "58 \t54    \t1.83\t0  \n",
      "59 \t55    \t2.57\t0  \n",
      "60 \t50    \t3.3 \t0  \n",
      "61 \t51    \t2.25\t0  \n",
      "62 \t46    \t2.32\t0  \n",
      "63 \t54    \t1.94\t0  \n",
      "64 \t59    \t2.98\t0  \n",
      "65 \t47    \t2.77\t0  \n",
      "66 \t47    \t2.43\t0  \n",
      "67 \t61    \t4.44\t0  \n",
      "68 \t57    \t4.28\t0  \n",
      "69 \t51    \t1.32\t0  \n",
      "70 \t51    \t2.26\t0  \n",
      "71 \t53    \t3.23\t0  \n",
      "72 \t65    \t2.23\t0  \n",
      "73 \t56    \t0.6 \t0  \n",
      "74 \t42    \t2.74\t0  \n",
      "75 \t48    \t2.58\t0  \n",
      "76 \t63    \t2.81\t0  \n",
      "77 \t52    \t2.56\t0  \n",
      "78 \t53    \t3.42\t0  \n",
      "79 \t39    \t1.58\t0  \n",
      "80 \t51    \t3.6 \t0  \n",
      "81 \t52    \t4.01\t0  \n",
      "82 \t56    \t2.28\t0  \n",
      "83 \t57    \t5.38\t0  \n",
      "84 \t59    \t3.2 \t0  \n",
      "85 \t51    \t1.95\t0  \n",
      "86 \t43    \t2.03\t0  \n",
      "87 \t54    \t3.81\t0  \n",
      "88 \t51    \t2.23\t0  \n",
      "89 \t47    \t1.5 \t0  \n",
      "90 \t55    \t3.63\t0  \n",
      "91 \t46    \t1.64\t0  \n",
      "92 \t56    \t2.67\t0  \n",
      "93 \t40    \t2.13\t0  \n",
      "94 \t57    \t2.63\t0  \n",
      "95 \t60    \t2.37\t0  \n",
      "96 \t50    \t3.12\t0  \n",
      "97 \t59    \t2.25\t0  \n",
      "98 \t64    \t2.32\t0  \n",
      "99 \t55    \t2.7 \t0  \n",
      "100\t44    \t4.08\t0  \n"
     ]
    }
   ],
   "source": [
    "stats = tools.Statistics(key=lambda ind: ind.fitness.values)\n",
    "\n",
    "import numpy as np\n",
    "\n",
    "stats.register(\"avg\", np.mean)\n",
    "stats.register(\"min\", np.min)\n",
    "\n",
    "pop = toolbox.population(n=100)\n",
    "\n",
    "hof = tools.HallOfFame(maxsize=1)\n",
    "\n",
    "pop, log = algorithms.eaSimple(pop, toolbox, cxpb=0.2, mutpb=0.4, ngen=100, stats=stats, halloffame=hof, verbose=True)"
   ]
  },
  {
   "cell_type": "markdown",
   "metadata": {
    "id": "OkApdsjQVOUL"
   },
   "source": [
    "### 5 pts:  Plot the \"avg\" and \"min\" for each generation"
   ]
  },
  {
   "cell_type": "code",
   "execution_count": 184,
   "metadata": {
    "colab": {
     "base_uri": "https://localhost:8080/",
     "height": 279
    },
    "id": "gcFc3eOyVOUM",
    "outputId": "7764fec7-7c22-4850-f6bc-2eb253438642",
    "scrolled": true
   },
   "outputs": [
    {
     "data": {
      "image/png": "[encoded data removed]",
      "text/plain": [
       "<Figure size 432x288 with 1 Axes>"
      ]
     },
     "metadata": {
      "needs_background": "light"
     },
     "output_type": "display_data"
    }
   ],
   "source": [
    "import matplotlib.pyplot as plt\n",
    "%matplotlib inline  \n",
    "\n",
    "gen, avg, min_ = log.select(\"gen\", \"avg\", \"min\")\n",
    "\n",
    "plt.plot(gen, avg, label=\"average\")\n",
    "plt.plot(gen, min_, label=\"minimum\")\n",
    "plt.xlabel(\"Generation\")\n",
    "plt.ylabel(\"Fitness\")\n",
    "plt.legend(loc=\"lower right\")\n",
    "plt.show()"
   ]
  },
  {
   "cell_type": "markdown",
   "metadata": {
    "id": "t6PFTvUZVOUN"
   },
   "source": [
    "### 5 pts:  Print out the best individual found and its fitness value.  Show the best individual as chessboard"
   ]
  },
  {
   "cell_type": "code",
   "execution_count": 185,
   "metadata": {
    "colab": {
     "base_uri": "https://localhost:8080/"
    },
    "id": "-MeBQ0BZVOUO",
    "outputId": "7d91c195-b65d-4865-82a0-007282f239e2"
   },
   "outputs": [
    {
     "name": "stdout",
     "output_type": "stream",
     "text": [
      "Best individual is: \n",
      "[62, 50, 56, 53, 47, 4, 25, 35]\n",
      "-|-|-|-|X|-|-|-|\n",
      "----------------\n",
      "-|-|-|-|-|-|-|-|\n",
      "----------------\n",
      "-|-|-|-|-|-|-|-|\n",
      "----------------\n",
      "-|X|-|-|-|-|-|-|\n",
      "----------------\n",
      "-|-|-|X|-|-|-|-|\n",
      "----------------\n",
      "-|-|-|-|-|-|-|X|\n",
      "----------------\n",
      "-|-|X|-|-|X|-|-|\n",
      "----------------\n",
      "X|-|-|-|-|-|X|-|\n",
      "----------------\n",
      "None\n",
      "\n",
      "with fitness:  (0.0,)\n"
     ]
    }
   ],
   "source": [
    "print(\"Best individual is: \")\n",
    "print(hof[0])\n",
    "print(show_grid(hof[0]))\n",
    "print(\"\\nwith fitness: \", hof[0].fitness)"
   ]
  },
  {
   "cell_type": "markdown",
   "metadata": {
    "id": "_PCJJdWAVOUP"
   },
   "source": [
    "## Part II: Row-index-based board representation"
   ]
  },
  {
   "cell_type": "code",
   "execution_count": 186,
   "metadata": {
    "colab": {
     "base_uri": "https://localhost:8080/"
    },
    "id": "BF0R7swEVOUQ",
    "outputId": "d3e3fc2b-3d5d-44f8-e65f-c77125802c17"
   },
   "outputs": [
    {
     "name": "stderr",
     "output_type": "stream",
     "text": [
      "/usr/local/lib/python3.7/dist-packages/deap/creator.py:141: RuntimeWarning: A class named 'FitnessMin' has already been created and it will be overwritten. Consider deleting previous creation of that class or rename it.\n",
      "  RuntimeWarning)\n",
      "/usr/local/lib/python3.7/dist-packages/deap/creator.py:141: RuntimeWarning: A class named 'Individual' has already been created and it will be overwritten. Consider deleting previous creation of that class or rename it.\n",
      "  RuntimeWarning)\n"
     ]
    }
   ],
   "source": [
    "import random\n",
    "import numpy as np\n",
    "from deap import algorithms, base, creator, tools\n",
    "\n",
    "creator.create(\"FitnessMin\", base.Fitness, weights=(-1.0,))\n",
    "creator.create(\"Individual\", list, fitness=creator.FitnessMin)\n"
   ]
  },
  {
   "cell_type": "markdown",
   "metadata": {
    "id": "YCwVbnHrVOUS"
   },
   "source": [
    "Each row of the chess row is indexed from 0->7 . we place different queens on different rows initially.  The sequence [ a b c d .... ] means that in $0^{th}$ row, $a^{th}$ column, the queen is present and so on"
   ]
  },
  {
   "cell_type": "code",
   "execution_count": 187,
   "metadata": {
    "id": "n4II9oePVOUS"
   },
   "outputs": [],
   "source": [
    "toolbox = base.Toolbox()\n",
    "\n",
    "toolbox.register(\"attr_int\", random.randint, 0, 7)\n",
    "toolbox.register(\"individual\", tools.initRepeat, creator.Individual,\n",
    "                 toolbox.attr_int, n=8)"
   ]
  },
  {
   "cell_type": "code",
   "execution_count": 188,
   "metadata": {
    "colab": {
     "base_uri": "https://localhost:8080/"
    },
    "id": "W-tn8be2VOUU",
    "outputId": "cf843268-7418-40d8-aa93-5250ce633d43"
   },
   "outputs": [
    {
     "data": {
      "text/plain": [
       "[4, 3, 0, 4, 2, 3, 7, 0]"
      ]
     },
     "execution_count": 188,
     "metadata": {},
     "output_type": "execute_result"
    }
   ],
   "source": [
    "toolbox.individual()"
   ]
  },
  {
   "cell_type": "code",
   "execution_count": 189,
   "metadata": {
    "id": "97EqErd3VOUX"
   },
   "outputs": [],
   "source": [
    "def show_grid(board):\n",
    "    \n",
    "    n = [0]*64\n",
    "    \n",
    "    for i in range(len(board)):\n",
    "        n[board[i] + i*8] = 1\n",
    "      \n",
    "    \n",
    "    for i in range(8):\n",
    "        for j in range(64):\n",
    "            if j // 8 == i:\n",
    "                if n[j] == 1:\n",
    "                    print('X',end=\"|\")\n",
    "                else:\n",
    "                    print('-',end=\"|\")\n",
    "        print()\n",
    "        print(\"----------------\")\n"
   ]
  },
  {
   "cell_type": "code",
   "execution_count": 190,
   "metadata": {
    "id": "UxkDfoxbVOUb"
   },
   "outputs": [],
   "source": [
    "toolbox.register(\"population\", tools.initRepeat, list, toolbox.individual)"
   ]
  },
  {
   "cell_type": "code",
   "execution_count": 191,
   "metadata": {
    "colab": {
     "base_uri": "https://localhost:8080/"
    },
    "id": "lcY06x24VOUe",
    "outputId": "43831c65-2674-4964-9ee7-95f4e6317507"
   },
   "outputs": [
    {
     "name": "stdout",
     "output_type": "stream",
     "text": [
      "[4, 2, 1, 4, 5, 7, 5, 1]\n"
     ]
    }
   ],
   "source": [
    "pop = toolbox.population(n=5)\n",
    "\n",
    "print(pop[0])"
   ]
  },
  {
   "cell_type": "code",
   "execution_count": 192,
   "metadata": {
    "colab": {
     "base_uri": "https://localhost:8080/"
    },
    "id": "KYoqKKm8VOUg",
    "outputId": "557a04b0-2957-44be-f71b-e46883d3b000"
   },
   "outputs": [
    {
     "name": "stdout",
     "output_type": "stream",
     "text": [
      "-|-|-|-|X|-|-|-|\n",
      "----------------\n",
      "-|-|X|-|-|-|-|-|\n",
      "----------------\n",
      "-|X|-|-|-|-|-|-|\n",
      "----------------\n",
      "-|-|-|-|X|-|-|-|\n",
      "----------------\n",
      "-|-|-|-|-|X|-|-|\n",
      "----------------\n",
      "-|-|-|-|-|-|-|X|\n",
      "----------------\n",
      "-|-|-|-|-|X|-|-|\n",
      "----------------\n",
      "-|X|-|-|-|-|-|-|\n",
      "----------------\n"
     ]
    }
   ],
   "source": [
    "show_grid(pop[0])"
   ]
  },
  {
   "cell_type": "markdown",
   "metadata": {
    "id": "6_wZvS3mVOUh"
   },
   "source": [
    "### 10 pts:  Write your code in the cell below to define the \"evaFitness\" function, which return the fitness of any given board\n",
    "\n",
    "- evaFitness() returns the total number of distinct pairs of queens that attack each other.  \n",
    "\n",
    "- The following are some test cases you may use to verify the correctness of the evaFitness() function:\n",
    "\n",
    " * evaFitness([0, 2, 6, 7, 7, 4, 1, 6]) should return (4,)\n",
    "\n",
    " * evaFitness([7, 5, 2, 4, 3, 1, 3, 5]) should return (6,)\n",
    "\n",
    " * evaFitness([3, 1, 6, 0, 5, 7, 2, 1]) should return (5,)\n",
    "\n",
    " * evaFitness([7, 3, 1, 4, 5, 1, 3, 5]) should return (6,)\n",
    "\n"
   ]
  },
  {
   "cell_type": "code",
   "execution_count": 193,
   "metadata": {
    "id": "bk1Rn57oVOUi"
   },
   "outputs": [],
   "source": [
    "def evaFitness(individual):\n",
    "    return getDistinctConflictsByRowIndex(individual)"
   ]
  },
  {
   "cell_type": "markdown",
   "metadata": {
    "id": "MLkixA1YVOUj"
   },
   "source": [
    "### 5 pts:  Writer your code in the cell below to register \"evaluate\" function to toolbox"
   ]
  },
  {
   "cell_type": "code",
   "execution_count": 194,
   "metadata": {
    "id": "TMwldAeuVOUk"
   },
   "outputs": [],
   "source": [
    "toolbox.register(\"evaluate\", evaFitness)"
   ]
  },
  {
   "cell_type": "code",
   "execution_count": 195,
   "metadata": {
    "id": "O-xOKMI4VOUl"
   },
   "outputs": [],
   "source": [
    "toolbox.register(\"mate\", tools.cxTwoPoint)\n",
    "\n",
    "toolbox.register(\"mutate\", tools.mutUniformInt, low = 0, up = 7, indpb=0.1)\n",
    "\n",
    "toolbox.register(\"select\", tools.selTournament, tournsize=3)"
   ]
  },
  {
   "cell_type": "code",
   "execution_count": 196,
   "metadata": {
    "id": "R1jlpMTNVOUn"
   },
   "outputs": [],
   "source": [
    "stats = tools.Statistics(key=lambda ind: ind.fitness.values)\n",
    "\n",
    "stats.register(\"avg\", np.mean)\n",
    "stats.register(\"min\", np.min)"
   ]
  },
  {
   "cell_type": "markdown",
   "metadata": {
    "id": "pyRth-sHVOUq"
   },
   "source": [
    "### 10 pts:  Writer your code in the cell below to create the first generation, the hall of fame, and launch the genetic algorithm: eaSimple().   How many individuals you want to have for each generation and how many generations you want GA to go thourgh for each run?     Vary those two parameters to see the change. "
   ]
  },
  {
   "cell_type": "code",
   "execution_count": 197,
   "metadata": {
    "colab": {
     "base_uri": "https://localhost:8080/"
    },
    "id": "3aJJcDUVVOUq",
    "outputId": "52591fc1-b166-4a3f-83dc-4b2bd81903f1"
   },
   "outputs": [
    {
     "name": "stdout",
     "output_type": "stream",
     "text": [
      "gen\tnevals\tavg \tmin\tmax\n",
      "0  \t100   \t7.63\t3  \t13 \n",
      "1  \t96    \t6.58\t3  \t13 \n",
      "2  \t88    \t5.74\t2  \t11 \n",
      "3  \t93    \t5.67\t3  \t12 \n",
      "4  \t83    \t5.31\t2  \t10 \n",
      "5  \t83    \t4.88\t2  \t11 \n",
      "6  \t96    \t4.88\t2  \t10 \n",
      "7  \t87    \t4.81\t2  \t11 \n",
      "8  \t93    \t4.62\t2  \t9  \n",
      "9  \t87    \t4.2 \t2  \t8  \n",
      "10 \t83    \t3.92\t2  \t9  \n",
      "11 \t93    \t3.53\t1  \t8  \n",
      "12 \t84    \t3.19\t1  \t8  \n",
      "13 \t88    \t2.76\t1  \t8  \n",
      "14 \t88    \t2.56\t1  \t6  \n",
      "15 \t85    \t2.5 \t1  \t12 \n",
      "16 \t91    \t2.08\t1  \t8  \n",
      "17 \t88    \t1.75\t1  \t7  \n",
      "18 \t89    \t1.77\t1  \t11 \n",
      "19 \t82    \t1.71\t1  \t9  \n",
      "20 \t85    \t1.57\t1  \t11 \n",
      "21 \t86    \t1.63\t1  \t7  \n",
      "22 \t84    \t1.68\t1  \t9  \n",
      "23 \t83    \t1.47\t1  \t6  \n",
      "24 \t85    \t1.52\t1  \t6  \n",
      "25 \t85    \t1.49\t1  \t8  \n",
      "26 \t91    \t1.79\t1  \t6  \n",
      "27 \t86    \t1.58\t1  \t7  \n",
      "28 \t93    \t1.85\t1  \t7  \n",
      "29 \t89    \t1.59\t1  \t9  \n",
      "30 \t85    \t1.52\t1  \t8  \n",
      "31 \t81    \t1.36\t1  \t6  \n",
      "32 \t88    \t1.34\t1  \t4  \n",
      "33 \t91    \t1.45\t1  \t8  \n",
      "34 \t83    \t1.33\t1  \t6  \n",
      "35 \t91    \t1.41\t1  \t7  \n",
      "36 \t88    \t1.34\t1  \t8  \n",
      "37 \t89    \t1.57\t1  \t9  \n",
      "38 \t89    \t1.62\t1  \t7  \n",
      "39 \t89    \t1.54\t1  \t5  \n",
      "40 \t85    \t1.49\t1  \t6  \n",
      "41 \t79    \t1.54\t1  \t7  \n",
      "42 \t83    \t1.75\t1  \t9  \n",
      "43 \t93    \t1.34\t1  \t7  \n",
      "44 \t86    \t1.49\t1  \t6  \n",
      "45 \t88    \t1.68\t1  \t6  \n",
      "46 \t82    \t1.78\t1  \t6  \n",
      "47 \t84    \t1.78\t1  \t6  \n",
      "48 \t88    \t1.76\t1  \t7  \n",
      "49 \t86    \t1.61\t1  \t6  \n",
      "50 \t92    \t1.57\t1  \t8  \n",
      "51 \t87    \t1.87\t1  \t9  \n",
      "52 \t84    \t1.59\t1  \t6  \n",
      "53 \t90    \t1.53\t1  \t6  \n",
      "54 \t88    \t1.61\t1  \t8  \n",
      "55 \t94    \t1.78\t1  \t7  \n",
      "56 \t86    \t1.82\t1  \t7  \n",
      "57 \t96    \t1.52\t1  \t11 \n",
      "58 \t93    \t1.66\t1  \t8  \n",
      "59 \t87    \t1.57\t1  \t6  \n",
      "60 \t85    \t1.61\t1  \t8  \n",
      "61 \t93    \t1.56\t1  \t7  \n",
      "62 \t90    \t1.54\t1  \t8  \n",
      "63 \t89    \t1.48\t1  \t7  \n",
      "64 \t88    \t1.69\t1  \t8  \n",
      "65 \t89    \t1.38\t1  \t5  \n",
      "66 \t92    \t1.53\t1  \t6  \n",
      "67 \t85    \t1.49\t1  \t6  \n",
      "68 \t91    \t1.69\t1  \t10 \n",
      "69 \t89    \t1.5 \t1  \t6  \n",
      "70 \t89    \t1.5 \t1  \t9  \n",
      "71 \t90    \t1.44\t1  \t6  \n",
      "72 \t85    \t1.42\t1  \t6  \n",
      "73 \t92    \t1.47\t1  \t7  \n",
      "74 \t76    \t1.59\t1  \t6  \n",
      "75 \t86    \t1.57\t1  \t6  \n",
      "76 \t85    \t1.65\t1  \t6  \n",
      "77 \t88    \t1.41\t1  \t8  \n",
      "78 \t89    \t1.51\t1  \t6  \n",
      "79 \t88    \t1.43\t1  \t9  \n",
      "80 \t85    \t1.35\t1  \t7  \n",
      "81 \t83    \t1.31\t1  \t5  \n",
      "82 \t91    \t1.48\t1  \t5  \n",
      "83 \t89    \t1.6 \t1  \t7  \n",
      "84 \t94    \t1.49\t1  \t6  \n",
      "85 \t91    \t1.62\t1  \t10 \n",
      "86 \t91    \t1.64\t1  \t6  \n",
      "87 \t84    \t1.63\t1  \t6  \n",
      "88 \t85    \t1.45\t1  \t5  \n",
      "89 \t89    \t1.7 \t1  \t8  \n",
      "90 \t92    \t1.49\t1  \t7  \n",
      "91 \t89    \t1.63\t1  \t6  \n",
      "92 \t79    \t1.47\t1  \t5  \n",
      "93 \t92    \t1.56\t1  \t8  \n",
      "94 \t86    \t1.64\t1  \t6  \n",
      "95 \t91    \t1.69\t1  \t7  \n",
      "96 \t90    \t1.5 \t1  \t7  \n",
      "97 \t87    \t1.34\t1  \t5  \n",
      "98 \t93    \t1.46\t1  \t6  \n",
      "99 \t84    \t1.56\t1  \t6  \n",
      "100\t93    \t1.7 \t1  \t6  \n"
     ]
    }
   ],
   "source": [
    "import numpy as np\n",
    "\n",
    "stats = tools.Statistics(key=lambda ind: ind.fitness.values)\n",
    "stats.register(\"avg\", np.mean)\n",
    "stats.register(\"min\", np.min)\n",
    "stats.register(\"max\", np.max)\n",
    "\n",
    "pop = toolbox.population(n=100)\n",
    "\n",
    "hof = tools.HallOfFame(maxsize=1)\n",
    "\n",
    "pop, log = algorithms.eaSimple(pop, toolbox, cxpb=0.8, mutpb=0.4, ngen=100,stats=stats, halloffame=hof, verbose=True)"
   ]
  },
  {
   "cell_type": "markdown",
   "metadata": {
    "id": "xrJfr0ePVOUs"
   },
   "source": [
    "### 5 pts:  Plot the \"avg\" and \"min\" for each generation"
   ]
  },
  {
   "cell_type": "code",
   "execution_count": 198,
   "metadata": {
    "colab": {
     "base_uri": "https://localhost:8080/",
     "height": 279
    },
    "id": "LJyAUq4WVOUs",
    "outputId": "deafb62b-47a2-4da4-faf5-b361301756cb"
   },
   "outputs": [
    {
     "data": {
      "image/png": "[encoded data removed]",
      "text/plain": [
       "<Figure size 432x288 with 1 Axes>"
      ]
     },
     "metadata": {
      "needs_background": "light"
     },
     "output_type": "display_data"
    }
   ],
   "source": [
    "# Plot the \"avg\" and \"min\" for each generation\n",
    "\n",
    "import matplotlib.pyplot as plt\n",
    "%matplotlib inline  \n",
    "\n",
    "gen, avg, min_ = log.select(\"gen\", \"avg\", \"min\")\n",
    "\n",
    "plt.plot(gen, avg, label=\"average\")\n",
    "plt.plot(gen, min_, label=\"minimum\")\n",
    "plt.xlabel(\"Generation\")\n",
    "plt.ylabel(\"Fitness\")\n",
    "plt.legend(loc=\"lower right\")\n",
    "plt.show()"
   ]
  },
  {
   "cell_type": "markdown",
   "metadata": {
    "id": "ry6HXqIMVOUv"
   },
   "source": [
    "### 5 pts:  Print out the best individual found and its fitness value.  Show the best individual as chessboard"
   ]
  },
  {
   "cell_type": "code",
   "execution_count": 199,
   "metadata": {
    "colab": {
     "base_uri": "https://localhost:8080/"
    },
    "id": "PkC9uOqCVOUv",
    "outputId": "417591e5-f262-49f4-d924-386ef7688cea"
   },
   "outputs": [
    {
     "name": "stdout",
     "output_type": "stream",
     "text": [
      "Best individual is: \n",
      "[5, 1, 6, 4, 2, 7, 3, 3]\n",
      "-|-|-|-|-|X|-|-|\n",
      "----------------\n",
      "-|X|-|-|-|-|-|-|\n",
      "----------------\n",
      "-|-|-|-|-|-|X|-|\n",
      "----------------\n",
      "-|-|-|-|X|-|-|-|\n",
      "----------------\n",
      "-|-|X|-|-|-|-|-|\n",
      "----------------\n",
      "-|-|-|-|-|-|-|X|\n",
      "----------------\n",
      "-|-|-|X|-|-|-|-|\n",
      "----------------\n",
      "-|-|-|X|-|-|-|-|\n",
      "----------------\n",
      "None\n",
      "\n",
      "with fitness:  (1.0,)\n"
     ]
    }
   ],
   "source": [
    "print(\"Best individual is: \")\n",
    "print(hof[0])\n",
    "print(show_grid(hof[0]))\n",
    "print(\"\\nwith fitness: \", hof[0].fitness)"
   ]
  },
  {
   "cell_type": "markdown",
   "metadata": {
    "id": "qhba2jQ1VOUw"
   },
   "source": [
    "### Reflection:  Which board representaion is better in terms of ease of coding and final solution quality?   Try different parameter values for mutation and crossover and vary the number of generations and the population size.  Write your findings in the report.        "
   ]
  }
 ],
 "metadata": {
  "colab": {
   "collapsed_sections": [],
   "name": "DEAP_n_queens_on_canvas.ipynb",
   "provenance": [],
   "toc_visible": true
  },
  "kernelspec": {
   "display_name": "Python 3",
   "language": "python",
   "name": "python3"
  },
  "language_info": {
   "codemirror_mode": {
    "name": "ipython",
    "version": 3
   },
   "file_extension": ".py",
   "mimetype": "text/x-python",
   "name": "python",
   "nbconvert_exporter": "python",
   "pygments_lexer": "ipython3",
   "version": "3.7.10"
  }
 },
 "nbformat": 4,
 "nbformat_minor": 0
}
