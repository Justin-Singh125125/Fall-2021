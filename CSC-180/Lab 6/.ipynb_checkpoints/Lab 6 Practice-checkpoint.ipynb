{
 "cells": [
  {
   "cell_type": "code",
   "execution_count": 31,
   "id": "f5cf3052",
   "metadata": {},
   "outputs": [
    {
     "name": "stdout",
     "output_type": "stream",
     "text": [
      "[[  5.  121.   67.  ...  19.9  80.    2. ]\n",
      " [  8.  307.  130.  ...  12.   70.    1. ]\n",
      " [  4.   91.   67.  ...  15.7  82.    3. ]\n",
      " ...\n",
      " [  4.   98.    nan ...  19.   71.    1. ]\n",
      " [  4.  120.   88.  ...  14.5  82.    3. ]\n",
      " [  4.   71.   65.  ...  21.   74.    3. ]]\n"
     ]
    }
   ],
   "source": [
    "# Regressive Model Template\n",
    "from sklearn.model_selection import train_test_split\n",
    "import pandas as pd\n",
    "import numpy as np\n",
    "from sklearn import metrics\n",
    "import os\n",
    "from importlib.machinery import SourceFileLoader\n",
    "helpers = SourceFileLoader(\"helpers\", \"../helpers.py\").load_module()\n",
    "\n",
    "\n",
    "# read in all data from the auto table\n",
    "fileData = os.path.join('../data', 'auto-mpg.csv')\n",
    "\n",
    "# store all values in a data frame while replacing all N/A values with ?\n",
    "vehiclesDataFrame = pd.read_csv(fileData, na_values=['NA' ,'?'])\n",
    "\n",
    "# storing for later use when we predict our data\n",
    "carNames = vehiclesDataFrame['name']\n",
    "\n",
    "# drop name column since we are storing all car names anyway\n",
    "vehiclesDataFrame.drop('name',1 ,inplace=True)\n",
    "\n",
    "# convert textual/categorical values \n",
    "# Encode text values to dummy variables(i.e. [1,0,0],[0,1,0],[0,0,1] for red,green,blue)\n",
    "# encode_text_dummy(vehiclesDataFrame, 'origin')\n",
    "# I do not know why we do this\n",
    "helpers.encode_text_dummy(vehiclesDataFrame, 'origin')\n",
    "\n",
    "# Convert a Pandas dataframe to the x,y inputs that TensorFlow needs\n",
    "x,y = helpers.to_xy(df,\"mpg\")\n",
    "\n",
    "# Split into train/test\n",
    "xTrain, xTest, yTrain, yTest = train_test_split(x,y, test_size=0.25, random_state=45)\n",
    "\n",
    "print(xTrain)\n",
    "print(xTest)\n",
    "print(yTrain)\n",
    "print(yTest)\n",
    "\n",
    "\n",
    "\n"
   ]
  },
  {
   "cell_type": "code",
   "execution_count": null,
   "id": "5afe241d",
   "metadata": {},
   "outputs": [],
   "source": []
  },
  {
   "cell_type": "code",
   "execution_count": null,
   "id": "a58fbe04",
   "metadata": {},
   "outputs": [],
   "source": []
  },
  {
   "cell_type": "code",
   "execution_count": null,
   "id": "ad3e9d0a",
   "metadata": {},
   "outputs": [],
   "source": []
  },
  {
   "cell_type": "code",
   "execution_count": null,
   "id": "7a23b198",
   "metadata": {},
   "outputs": [],
   "source": []
  }
 ],
 "metadata": {
  "kernelspec": {
   "display_name": "Python 3",
   "language": "python",
   "name": "python3"
  },
  "language_info": {
   "codemirror_mode": {
    "name": "ipython",
    "version": 3
   },
   "file_extension": ".py",
   "mimetype": "text/x-python",
   "name": "python",
   "nbconvert_exporter": "python",
   "pygments_lexer": "ipython3",
   "version": "3.7.10"
  }
 },
 "nbformat": 4,
 "nbformat_minor": 5
}
