{
 "cells": [
  {
   "cell_type": "code",
   "execution_count": 179,
   "id": "804bd01b",
   "metadata": {},
   "outputs": [
    {
     "name": "stdout",
     "output_type": "stream",
     "text": [
      "Final score (RMSE): 0.9788805688469275\n",
      "     ground_truth  predicted\n",
      "0               5   4.234299\n",
      "1               5   4.730857\n",
      "2               4   4.474534\n",
      "3               5   4.320182\n",
      "4               4   4.304997\n",
      "..            ...        ...\n",
      "995             3   2.955945\n",
      "996             3   3.953936\n",
      "997             4   3.969273\n",
      "998             4   4.068656\n",
      "999             4   3.538963\n",
      "\n",
      "[1000 rows x 2 columns]\n"
     ]
    },
    {
     "data": {
      "image/png": "[encoded data removed]",
      "text/plain": [
       "<Figure size 432x288 with 1 Axes>"
      ]
     },
     "metadata": {
      "needs_background": "light"
     },
     "output_type": "display_data"
    }
   ],
   "source": [
    "from importlib.machinery import SourceFileLoader\n",
    "helpers = SourceFileLoader(\"helpers\", \"./helpers.py\").load_module()\n",
    "import os\n",
    "import numpy as np\n",
    "import pandas as pd\n",
    "from sklearn import metrics\n",
    "import sklearn.feature_extraction.text as sk_text\n",
    "from sklearn.model_selection import train_test_split\n",
    "from tensorflow.keras.models import Sequential\n",
    "from tensorflow.keras.layers import Dense, Activation\n",
    "from tensorflow.keras.callbacks import EarlyStopping\n",
    "from tensorflow.keras.callbacks import ModelCheckpoint\n",
    "from tensorflow.keras import optimizers\n",
    "\n",
    "business_data_frame = pd.read_json('./dataset/business.json', lines=True)\n",
    "\n",
    "\n",
    "# Removing all businesses with less then 20 reviews because of project requirements\n",
    "filtered_business_data_frame = business_data_frame[business_data_frame['review_count'] >= 20]\n",
    "\n",
    "review_data_frame = pd.read_json('./dataset/reviews.json', lines=True, nrows=5000)\n",
    "\n",
    "review_data_frame.drop('user_id',1,inplace=True)\n",
    "review_data_frame.drop('review_id',1,inplace=True)\n",
    "review_data_frame.drop('useful',1,inplace=True)\n",
    "review_data_frame.drop('funny',1,inplace=True)\n",
    "review_data_frame.drop('cool',1,inplace=True)\n",
    "review_data_frame.drop('date',1,inplace=True)\n",
    "review_data_frame.drop('business_id',1,inplace=True)\n",
    "\n",
    "\n",
    "\n",
    "# Compute a weight to each word which signifies the importance of the word\n",
    "vectorizer = sk_text.TfidfVectorizer(stop_words='english', max_features = 500, min_df=1)\n",
    "\n",
    "\n",
    "\n",
    "reviewMatrix = vectorizer.fit_transform(review_data_frame['text'])\n",
    "\n",
    "# Convert both the reviews and the stars to numpy arrays so the data matches when we go to test\n",
    "numpyReviews = reviewMatrix.toarray()\n",
    "numpyStars = review_data_frame['stars'].to_numpy()\n",
    "\n",
    "\n",
    "x_train, x_test, y_train, y_test = train_test_split(numpyReviews, numpyStars, test_size=0.20, random_state=42)\n",
    "\n",
    "\n",
    "\n",
    "model = Sequential()\n",
    "\n",
    "# having any more layers did not help\n",
    "# 5 for this layer seem to be the sweet spot. any lower increased RMSE. any Higher had the same value until I went past 10\n",
    "model.add(Dense(5, input_dim=x_train.shape[1], activation='relu'))\n",
    "model.add(Dense(1))\n",
    "\n",
    "\n",
    "# sgd ended up performing the best. I found that lowering the learning_rate had little to no effect. It just increased\n",
    "# the amount of time to fit\n",
    "sgd = optimizers.SGD(learning_rate=0.1)\n",
    "\n",
    "model.compile(loss='mean_squared_error', optimizer=sgd)\n",
    "\n",
    "# stops when data is flattening out\n",
    "monitor = EarlyStopping(monitor='val_loss', min_delta=1e-3, patience=5, verbose=0, mode='auto')\n",
    "model.fit(x_train,y_train, validation_data=(x_test,y_test),callbacks=[monitor],verbose=0,epochs=1000)\n",
    "\n",
    "\n",
    "\n",
    "pred = model.predict(x_test)\n",
    "score = np.sqrt(metrics.mean_squared_error(pred,y_test))\n",
    "print(\"Final score (RMSE): {}\".format(score))\n",
    "\n",
    "\n",
    "df_y = pd.DataFrame(y_test, columns=['ground_truth'])\n",
    "df_pred = pd.DataFrame(pred, columns=['predicted'])\n",
    "result = pd.concat([df_y, df_pred],axis=1)\n",
    "\n",
    "print(result)\n",
    "\n",
    "helpers.chart_regression(pred.flatten(),y_test, sort=True)\n",
    "\n"
   ]
  },
  {
   "cell_type": "code",
   "execution_count": null,
   "id": "edc41a61",
   "metadata": {},
   "outputs": [],
   "source": []
  },
  {
   "cell_type": "code",
   "execution_count": null,
   "id": "6a1ef77d",
   "metadata": {},
   "outputs": [],
   "source": []
  },
  {
   "cell_type": "code",
   "execution_count": null,
   "id": "ae4e6d0c",
   "metadata": {},
   "outputs": [],
   "source": []
  },
  {
   "cell_type": "code",
   "execution_count": null,
   "id": "f43c2c78",
   "metadata": {},
   "outputs": [],
   "source": []
  },
  {
   "cell_type": "code",
   "execution_count": null,
   "id": "4cc7db50",
   "metadata": {},
   "outputs": [],
   "source": []
  },
  {
   "cell_type": "code",
   "execution_count": null,
   "id": "43d96e97",
   "metadata": {},
   "outputs": [],
   "source": []
  },
  {
   "cell_type": "code",
   "execution_count": null,
   "id": "ce1ecfe2",
   "metadata": {},
   "outputs": [],
   "source": []
  },
  {
   "cell_type": "code",
   "execution_count": null,
   "id": "2907cc8f",
   "metadata": {},
   "outputs": [],
   "source": []
  }
 ],
 "metadata": {
  "kernelspec": {
   "display_name": "Python 3",
   "language": "python",
   "name": "python3"
  },
  "language_info": {
   "codemirror_mode": {
    "name": "ipython",
    "version": 3
   },
   "file_extension": ".py",
   "mimetype": "text/x-python",
   "name": "python",
   "nbconvert_exporter": "python",
   "pygments_lexer": "ipython3",
   "version": "3.7.10"
  }
 },
 "nbformat": 4,
 "nbformat_minor": 5
}
