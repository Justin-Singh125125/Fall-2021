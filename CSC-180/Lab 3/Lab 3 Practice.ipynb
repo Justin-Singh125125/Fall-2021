{
 "cells": [
  {
   "cell_type": "code",
   "execution_count": 45,
   "id": "d9f42dcd",
   "metadata": {},
   "outputs": [
    {
     "data": {
      "text/plain": [
       "array([0, 0])"
      ]
     },
     "execution_count": 45,
     "metadata": {},
     "output_type": "execute_result"
    }
   ],
   "source": [
    "from sklearn.datasets import load_iris\n",
    "from sklearn.neighbors import KNeighborsClassifier\n",
    "from sklearn.linear_model import LogisticRegression\n",
    "\n",
    "iris = load_iris()\n",
    "\n",
    "\n",
    "# stores all the input data. this should be the rows\n",
    "X = iris.data\n",
    "\n",
    "# corresponds to each row. the result of the data classifies the type\n",
    "y = iris.target\n",
    "\n",
    "\n",
    "knn = KNeighborsClassifier(n_neighbors=10)\n",
    "\n",
    "# x takes a matrix, y takes an array\n",
    "knn.fit(X, y)\n",
    "\n",
    "prediction1 = [[3, 5, 4, 2]]\n",
    "prediction2 = [[3, 5, 4, 2], [5, 4, 3, 2]]\n",
    "\n",
    "# [1]\n",
    "knn.predict(prediction1) \n",
    "\n",
    "# [1, 1]\n",
    "knn.predict(prediction2)\n",
    "\n",
    "\n",
    "\n",
    "logreg = LogisticRegression(solver='lbfgs', multi_class='ovr')\n",
    "\n",
    "logreg.fit(X, y)\n",
    "\n",
    "# [0, 0]\n",
    "logreg.predict(prediction2)\n",
    "\n"
   ]
  },
  {
   "cell_type": "code",
   "execution_count": null,
   "id": "cc68b39c",
   "metadata": {},
   "outputs": [],
   "source": []
  },
  {
   "cell_type": "code",
   "execution_count": null,
   "id": "8fe9ae68",
   "metadata": {},
   "outputs": [],
   "source": []
  },
  {
   "cell_type": "code",
   "execution_count": null,
   "id": "7ffda592",
   "metadata": {},
   "outputs": [],
   "source": []
  },
  {
   "cell_type": "code",
   "execution_count": null,
   "id": "9360b14a",
   "metadata": {},
   "outputs": [],
   "source": []
  }
 ],
 "metadata": {
  "kernelspec": {
   "display_name": "Python 3",
   "language": "python",
   "name": "python3"
  },
  "language_info": {
   "codemirror_mode": {
    "name": "ipython",
    "version": 3
   },
   "file_extension": ".py",
   "mimetype": "text/x-python",
   "name": "python",
   "nbconvert_exporter": "python",
   "pygments_lexer": "ipython3",
   "version": "3.7.10"
  }
 },
 "nbformat": 4,
 "nbformat_minor": 5
}
